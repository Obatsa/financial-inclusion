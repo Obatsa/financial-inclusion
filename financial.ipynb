{
 "cells": [
  {
   "cell_type": "markdown",
   "metadata": {},
   "source": [
    "# Financial Inclusion in East Africa"
   ]
  },
  {
   "cell_type": "markdown",
   "metadata": {},
   "source": [
    "This project was undertaken with the goal of finding out individuals with access to bank accounts and the different factors that influence them. This project could be used by government, financial institutions and Community enabler organizations(NGOs) to plan and roll out initiatives that would ultimately favour individuals gain access to banking institutions promoting a saving culture across East Africa. "
   ]
  },
  {
   "cell_type": "markdown",
   "metadata": {},
   "source": [
    "## Business Understanding\n",
    "A ficticious "
   ]
  },
  {
   "cell_type": "markdown",
   "metadata": {},
   "source": [
    "## Data Understanding\n",
    "The data used from in this project was obtained from Zindi Africa platform (https://zindi.africa/competitions/financial-inclusion-in-africa/data). There are two datasets provided, train.csv and test.csv.\n",
    "1. **Train.csv**\n",
    "\n",
    "The dataset contains 13 columns with 23524 entries. Each row is an entry pertaining an individual. Below there are brief descriptions of the different columns.\n",
    " - ***country*** : This column contains the name of country locations where the individuals are located.\n",
    " - ***year*** : This column contains the year the entry was recorded.\n",
    " - ***uniqueid*** : This column is a unique identifier to each record in the dataset.\n",
    " - ***bank_account*** : This is the target column with entries showing whether one has a bank account or not.\n",
    " - ***location_type*** : This column contains the type of location an individual is ie. urban, rural etc.\n",
    " - ***cellphone_access*** : This column contains information wether an individual has access to a cellphone or not.\n",
    " - ***household_size*** : This column contains information about the size of the household of an individual.\n",
    " - ***age_of_respondent*** :The column contains information about the age of the individual.\n",
    " - ***gender_of_respondent*** : This column contains the biological gender identification of the individual.\n",
    " - ***relationship_with_head*** : This column contains information about the nature of relationship with the head of the household to an individual.\n",
    " - ***marital_status*** : This column contains information about the marital status of the individual.\n",
    " - ***education_level*** : This column contains information about the educational level of the individual.\n",
    "\n",
    "2. **Test.csv**\n",
    "\n",
    "The columns are similar as those of the train set with the exception of the bank_account column which is missing."
   ]
  },
  {
   "cell_type": "markdown",
   "metadata": {},
   "source": [
    "![Financial Inclusion](images/financial_inclusion.jpg)"
   ]
  },
  {
   "cell_type": "code",
   "execution_count": 74,
   "metadata": {},
   "outputs": [],
   "source": [
    "# importing the necessary libraries\n",
    "import pandas as pd\n",
    "import seaborn as sns\n",
    "import numpy as np\n",
    "import matplotlib.pyplot as plt\n",
    "%matplotlib inline\n",
    "\n",
    "# imblearn\n",
    "import imblearn\n",
    "from imblearn.under_sampling import RandomUnderSampler, TomekLinks\n",
    "\n",
    "# sklearn\n",
    "from sklearn.preprocessing import OneHotEncoder, LabelEncoder, MinMaxScaler\n",
    "# sklearn models\n",
    "from sklearn.model_selection import train_test_split, GridSearchCV\n",
    "from sklearn.linear_model import LogisticRegression\n",
    "from sklearn.decomposition import PCA\n",
    "from sklearn.neighbors import KNeighborsClassifier\n",
    "from sklearn.tree import DecisionTreeClassifier\n",
    "from sklearn import tree\n",
    "# sklearn ensemble\n",
    "from sklearn.ensemble import RandomForestClassifier\n",
    "# sklearn metrics\n",
    "from sklearn.metrics import plot_confusion_matrix\n",
    "from sklearn.metrics import ConfusionMatrixDisplay\n",
    "from sklearn.metrics import mean_absolute_error\n",
    "from sklearn.metrics import classification_report\n",
    "# xgboost\n",
    "import xgboost as xgb\n",
    "# warnings\n",
    "import warnings\n",
    "warnings.filterwarnings('ignore')\n",
    "# pickle\n",
    "import pickle"
   ]
  },
  {
   "cell_type": "code",
   "execution_count": 17,
   "metadata": {
    "scrolled": false
   },
   "outputs": [
    {
     "data": {
      "text/html": [
       "<div>\n",
       "<style scoped>\n",
       "    .dataframe tbody tr th:only-of-type {\n",
       "        vertical-align: middle;\n",
       "    }\n",
       "\n",
       "    .dataframe tbody tr th {\n",
       "        vertical-align: top;\n",
       "    }\n",
       "\n",
       "    .dataframe thead th {\n",
       "        text-align: right;\n",
       "    }\n",
       "</style>\n",
       "<table border=\"1\" class=\"dataframe\">\n",
       "  <thead>\n",
       "    <tr style=\"text-align: right;\">\n",
       "      <th></th>\n",
       "      <th>country</th>\n",
       "      <th>year</th>\n",
       "      <th>uniqueid</th>\n",
       "      <th>bank_account</th>\n",
       "      <th>location_type</th>\n",
       "      <th>cellphone_access</th>\n",
       "      <th>household_size</th>\n",
       "      <th>age_of_respondent</th>\n",
       "      <th>gender_of_respondent</th>\n",
       "      <th>relationship_with_head</th>\n",
       "      <th>marital_status</th>\n",
       "      <th>education_level</th>\n",
       "      <th>job_type</th>\n",
       "    </tr>\n",
       "  </thead>\n",
       "  <tbody>\n",
       "    <tr>\n",
       "      <th>0</th>\n",
       "      <td>Kenya</td>\n",
       "      <td>2018</td>\n",
       "      <td>uniqueid_1</td>\n",
       "      <td>Yes</td>\n",
       "      <td>Rural</td>\n",
       "      <td>Yes</td>\n",
       "      <td>3</td>\n",
       "      <td>24</td>\n",
       "      <td>Female</td>\n",
       "      <td>Spouse</td>\n",
       "      <td>Married/Living together</td>\n",
       "      <td>Secondary education</td>\n",
       "      <td>Self employed</td>\n",
       "    </tr>\n",
       "    <tr>\n",
       "      <th>1</th>\n",
       "      <td>Kenya</td>\n",
       "      <td>2018</td>\n",
       "      <td>uniqueid_2</td>\n",
       "      <td>No</td>\n",
       "      <td>Rural</td>\n",
       "      <td>No</td>\n",
       "      <td>5</td>\n",
       "      <td>70</td>\n",
       "      <td>Female</td>\n",
       "      <td>Head of Household</td>\n",
       "      <td>Widowed</td>\n",
       "      <td>No formal education</td>\n",
       "      <td>Government Dependent</td>\n",
       "    </tr>\n",
       "    <tr>\n",
       "      <th>2</th>\n",
       "      <td>Kenya</td>\n",
       "      <td>2018</td>\n",
       "      <td>uniqueid_3</td>\n",
       "      <td>Yes</td>\n",
       "      <td>Urban</td>\n",
       "      <td>Yes</td>\n",
       "      <td>5</td>\n",
       "      <td>26</td>\n",
       "      <td>Male</td>\n",
       "      <td>Other relative</td>\n",
       "      <td>Single/Never Married</td>\n",
       "      <td>Vocational/Specialised training</td>\n",
       "      <td>Self employed</td>\n",
       "    </tr>\n",
       "    <tr>\n",
       "      <th>3</th>\n",
       "      <td>Kenya</td>\n",
       "      <td>2018</td>\n",
       "      <td>uniqueid_4</td>\n",
       "      <td>No</td>\n",
       "      <td>Rural</td>\n",
       "      <td>Yes</td>\n",
       "      <td>5</td>\n",
       "      <td>34</td>\n",
       "      <td>Female</td>\n",
       "      <td>Head of Household</td>\n",
       "      <td>Married/Living together</td>\n",
       "      <td>Primary education</td>\n",
       "      <td>Formally employed Private</td>\n",
       "    </tr>\n",
       "    <tr>\n",
       "      <th>4</th>\n",
       "      <td>Kenya</td>\n",
       "      <td>2018</td>\n",
       "      <td>uniqueid_5</td>\n",
       "      <td>No</td>\n",
       "      <td>Urban</td>\n",
       "      <td>No</td>\n",
       "      <td>8</td>\n",
       "      <td>26</td>\n",
       "      <td>Male</td>\n",
       "      <td>Child</td>\n",
       "      <td>Single/Never Married</td>\n",
       "      <td>Primary education</td>\n",
       "      <td>Informally employed</td>\n",
       "    </tr>\n",
       "  </tbody>\n",
       "</table>\n",
       "</div>"
      ],
      "text/plain": [
       "  country  year    uniqueid bank_account location_type cellphone_access  \\\n",
       "0   Kenya  2018  uniqueid_1          Yes         Rural              Yes   \n",
       "1   Kenya  2018  uniqueid_2           No         Rural               No   \n",
       "2   Kenya  2018  uniqueid_3          Yes         Urban              Yes   \n",
       "3   Kenya  2018  uniqueid_4           No         Rural              Yes   \n",
       "4   Kenya  2018  uniqueid_5           No         Urban               No   \n",
       "\n",
       "   household_size  age_of_respondent gender_of_respondent  \\\n",
       "0               3                 24               Female   \n",
       "1               5                 70               Female   \n",
       "2               5                 26                 Male   \n",
       "3               5                 34               Female   \n",
       "4               8                 26                 Male   \n",
       "\n",
       "  relationship_with_head           marital_status  \\\n",
       "0                 Spouse  Married/Living together   \n",
       "1      Head of Household                  Widowed   \n",
       "2         Other relative     Single/Never Married   \n",
       "3      Head of Household  Married/Living together   \n",
       "4                  Child     Single/Never Married   \n",
       "\n",
       "                   education_level                   job_type  \n",
       "0              Secondary education              Self employed  \n",
       "1              No formal education       Government Dependent  \n",
       "2  Vocational/Specialised training              Self employed  \n",
       "3                Primary education  Formally employed Private  \n",
       "4                Primary education        Informally employed  "
      ]
     },
     "execution_count": 17,
     "metadata": {},
     "output_type": "execute_result"
    }
   ],
   "source": [
    "data = pd.read_csv(\"data/train.csv\")\n",
    "data.head()"
   ]
  },
  {
   "cell_type": "code",
   "execution_count": 68,
   "metadata": {},
   "outputs": [],
   "source": [
    "# test dataset\n",
    "test = pd.read_csv('data/test.csv')"
   ]
  },
  {
   "cell_type": "code",
   "execution_count": 92,
   "metadata": {},
   "outputs": [
    {
     "data": {
      "text/plain": [
       "Index(['country', 'location_type', 'cellphone_access', 'age_of_respondent',\n",
       "       'gender_of_respondent', 'relationship_with_head', 'marital_status',\n",
       "       'education_level', 'job_type', 'household_size_binned', 'bank_account'],\n",
       "      dtype='object')"
      ]
     },
     "execution_count": 92,
     "metadata": {},
     "output_type": "execute_result"
    }
   ],
   "source": [
    "test.columns"
   ]
  },
  {
   "cell_type": "code",
   "execution_count": 5,
   "metadata": {},
   "outputs": [
    {
     "data": {
      "text/plain": [
       "(23524, 13)"
      ]
     },
     "execution_count": 5,
     "metadata": {},
     "output_type": "execute_result"
    }
   ],
   "source": [
    "data.shape"
   ]
  },
  {
   "cell_type": "code",
   "execution_count": 6,
   "metadata": {},
   "outputs": [
    {
     "data": {
      "text/plain": [
       "Index(['country', 'year', 'uniqueid', 'bank_account', 'location_type',\n",
       "       'cellphone_access', 'household_size', 'age_of_respondent',\n",
       "       'gender_of_respondent', 'relationship_with_head', 'marital_status',\n",
       "       'education_level', 'job_type'],\n",
       "      dtype='object')"
      ]
     },
     "execution_count": 6,
     "metadata": {},
     "output_type": "execute_result"
    }
   ],
   "source": [
    "# Checking the column names\n",
    "data.columns"
   ]
  },
  {
   "cell_type": "code",
   "execution_count": 6,
   "metadata": {},
   "outputs": [
    {
     "name": "stdout",
     "output_type": "stream",
     "text": [
      "<class 'pandas.core.frame.DataFrame'>\n",
      "RangeIndex: 23524 entries, 0 to 23523\n",
      "Data columns (total 13 columns):\n",
      " #   Column                  Non-Null Count  Dtype \n",
      "---  ------                  --------------  ----- \n",
      " 0   country                 23524 non-null  object\n",
      " 1   year                    23524 non-null  int64 \n",
      " 2   uniqueid                23524 non-null  object\n",
      " 3   bank_account            23524 non-null  object\n",
      " 4   location_type           23524 non-null  object\n",
      " 5   cellphone_access        23524 non-null  object\n",
      " 6   household_size          23524 non-null  int64 \n",
      " 7   age_of_respondent       23524 non-null  int64 \n",
      " 8   gender_of_respondent    23524 non-null  object\n",
      " 9   relationship_with_head  23524 non-null  object\n",
      " 10  marital_status          23524 non-null  object\n",
      " 11  education_level         23524 non-null  object\n",
      " 12  job_type                23524 non-null  object\n",
      "dtypes: int64(3), object(10)\n",
      "memory usage: 2.3+ MB\n"
     ]
    }
   ],
   "source": [
    "# Checking the overall information of the data set\n",
    "data.info()"
   ]
  },
  {
   "cell_type": "markdown",
   "metadata": {},
   "source": [
    "The dataframe contains 13 columns with 23524 entries. 3 columns are of numeric type while the rest are of object type. Below we check missing values in individual columns."
   ]
  },
  {
   "cell_type": "code",
   "execution_count": 7,
   "metadata": {},
   "outputs": [],
   "source": [
    "def completeness(df):\n",
    "    \"\"\"This column checks the percentage completeness of the different columns and\n",
    "    returns the percentages as a dataframe\"\"\"\n",
    "    # obtaining the columns & length of dataframe\n",
    "    columns = list(df.columns)\n",
    "    length_df = len(df)\n",
    "    perc_completeness = []\n",
    "    \n",
    "    for column in columns:\n",
    "        # finding missing values\n",
    "        missing =  df[column].isna().sum()\n",
    "        # percent missing\n",
    "        perc_miss = (1 - (missing / length_df)) * 100\n",
    "        perc_completeness.append(perc_miss)\n",
    "    \n",
    "    output = pd.DataFrame(list(zip(columns, perc_completeness)),\n",
    "                          columns= ['Feature', '%_completeness'])\n",
    "    # sort\n",
    "    output = output.sort_values(by= '%_completeness', ascending= True)\n",
    "    output.reset_index(inplace= True, drop= True)\n",
    "    \n",
    "    return output\n",
    "    "
   ]
  },
  {
   "cell_type": "code",
   "execution_count": 8,
   "metadata": {},
   "outputs": [
    {
     "data": {
      "text/html": [
       "<div>\n",
       "<style scoped>\n",
       "    .dataframe tbody tr th:only-of-type {\n",
       "        vertical-align: middle;\n",
       "    }\n",
       "\n",
       "    .dataframe tbody tr th {\n",
       "        vertical-align: top;\n",
       "    }\n",
       "\n",
       "    .dataframe thead th {\n",
       "        text-align: right;\n",
       "    }\n",
       "</style>\n",
       "<table border=\"1\" class=\"dataframe\">\n",
       "  <thead>\n",
       "    <tr style=\"text-align: right;\">\n",
       "      <th></th>\n",
       "      <th>Feature</th>\n",
       "      <th>%_completeness</th>\n",
       "    </tr>\n",
       "  </thead>\n",
       "  <tbody>\n",
       "    <tr>\n",
       "      <th>0</th>\n",
       "      <td>country</td>\n",
       "      <td>100.0</td>\n",
       "    </tr>\n",
       "    <tr>\n",
       "      <th>1</th>\n",
       "      <td>year</td>\n",
       "      <td>100.0</td>\n",
       "    </tr>\n",
       "    <tr>\n",
       "      <th>2</th>\n",
       "      <td>uniqueid</td>\n",
       "      <td>100.0</td>\n",
       "    </tr>\n",
       "    <tr>\n",
       "      <th>3</th>\n",
       "      <td>bank_account</td>\n",
       "      <td>100.0</td>\n",
       "    </tr>\n",
       "    <tr>\n",
       "      <th>4</th>\n",
       "      <td>location_type</td>\n",
       "      <td>100.0</td>\n",
       "    </tr>\n",
       "    <tr>\n",
       "      <th>5</th>\n",
       "      <td>cellphone_access</td>\n",
       "      <td>100.0</td>\n",
       "    </tr>\n",
       "    <tr>\n",
       "      <th>6</th>\n",
       "      <td>household_size</td>\n",
       "      <td>100.0</td>\n",
       "    </tr>\n",
       "    <tr>\n",
       "      <th>7</th>\n",
       "      <td>age_of_respondent</td>\n",
       "      <td>100.0</td>\n",
       "    </tr>\n",
       "    <tr>\n",
       "      <th>8</th>\n",
       "      <td>gender_of_respondent</td>\n",
       "      <td>100.0</td>\n",
       "    </tr>\n",
       "    <tr>\n",
       "      <th>9</th>\n",
       "      <td>relationship_with_head</td>\n",
       "      <td>100.0</td>\n",
       "    </tr>\n",
       "    <tr>\n",
       "      <th>10</th>\n",
       "      <td>marital_status</td>\n",
       "      <td>100.0</td>\n",
       "    </tr>\n",
       "    <tr>\n",
       "      <th>11</th>\n",
       "      <td>education_level</td>\n",
       "      <td>100.0</td>\n",
       "    </tr>\n",
       "    <tr>\n",
       "      <th>12</th>\n",
       "      <td>job_type</td>\n",
       "      <td>100.0</td>\n",
       "    </tr>\n",
       "  </tbody>\n",
       "</table>\n",
       "</div>"
      ],
      "text/plain": [
       "                   Feature  %_completeness\n",
       "0                  country           100.0\n",
       "1                     year           100.0\n",
       "2                 uniqueid           100.0\n",
       "3             bank_account           100.0\n",
       "4            location_type           100.0\n",
       "5         cellphone_access           100.0\n",
       "6           household_size           100.0\n",
       "7        age_of_respondent           100.0\n",
       "8     gender_of_respondent           100.0\n",
       "9   relationship_with_head           100.0\n",
       "10          marital_status           100.0\n",
       "11         education_level           100.0\n",
       "12                job_type           100.0"
      ]
     },
     "execution_count": 8,
     "metadata": {},
     "output_type": "execute_result"
    }
   ],
   "source": [
    "completeness(data)"
   ]
  },
  {
   "cell_type": "markdown",
   "metadata": {},
   "source": [
    "Most of the data in the dataframe is intanct. Different features will be checked to see if some of the missing values can be salvaged in the EDA phase. Checking the overall descriptive statistics of the numeric columns below:"
   ]
  },
  {
   "cell_type": "code",
   "execution_count": 9,
   "metadata": {},
   "outputs": [
    {
     "data": {
      "text/html": [
       "<div>\n",
       "<style scoped>\n",
       "    .dataframe tbody tr th:only-of-type {\n",
       "        vertical-align: middle;\n",
       "    }\n",
       "\n",
       "    .dataframe tbody tr th {\n",
       "        vertical-align: top;\n",
       "    }\n",
       "\n",
       "    .dataframe thead th {\n",
       "        text-align: right;\n",
       "    }\n",
       "</style>\n",
       "<table border=\"1\" class=\"dataframe\">\n",
       "  <thead>\n",
       "    <tr style=\"text-align: right;\">\n",
       "      <th></th>\n",
       "      <th>year</th>\n",
       "      <th>household_size</th>\n",
       "      <th>age_of_respondent</th>\n",
       "    </tr>\n",
       "  </thead>\n",
       "  <tbody>\n",
       "    <tr>\n",
       "      <th>count</th>\n",
       "      <td>23524.000000</td>\n",
       "      <td>23524.000000</td>\n",
       "      <td>23524.000000</td>\n",
       "    </tr>\n",
       "    <tr>\n",
       "      <th>mean</th>\n",
       "      <td>2016.975939</td>\n",
       "      <td>3.797483</td>\n",
       "      <td>38.805220</td>\n",
       "    </tr>\n",
       "    <tr>\n",
       "      <th>std</th>\n",
       "      <td>0.847371</td>\n",
       "      <td>2.227613</td>\n",
       "      <td>16.520569</td>\n",
       "    </tr>\n",
       "    <tr>\n",
       "      <th>min</th>\n",
       "      <td>2016.000000</td>\n",
       "      <td>1.000000</td>\n",
       "      <td>16.000000</td>\n",
       "    </tr>\n",
       "    <tr>\n",
       "      <th>25%</th>\n",
       "      <td>2016.000000</td>\n",
       "      <td>2.000000</td>\n",
       "      <td>26.000000</td>\n",
       "    </tr>\n",
       "    <tr>\n",
       "      <th>50%</th>\n",
       "      <td>2017.000000</td>\n",
       "      <td>3.000000</td>\n",
       "      <td>35.000000</td>\n",
       "    </tr>\n",
       "    <tr>\n",
       "      <th>75%</th>\n",
       "      <td>2018.000000</td>\n",
       "      <td>5.000000</td>\n",
       "      <td>49.000000</td>\n",
       "    </tr>\n",
       "    <tr>\n",
       "      <th>max</th>\n",
       "      <td>2018.000000</td>\n",
       "      <td>21.000000</td>\n",
       "      <td>100.000000</td>\n",
       "    </tr>\n",
       "  </tbody>\n",
       "</table>\n",
       "</div>"
      ],
      "text/plain": [
       "               year  household_size  age_of_respondent\n",
       "count  23524.000000    23524.000000       23524.000000\n",
       "mean    2016.975939        3.797483          38.805220\n",
       "std        0.847371        2.227613          16.520569\n",
       "min     2016.000000        1.000000          16.000000\n",
       "25%     2016.000000        2.000000          26.000000\n",
       "50%     2017.000000        3.000000          35.000000\n",
       "75%     2018.000000        5.000000          49.000000\n",
       "max     2018.000000       21.000000         100.000000"
      ]
     },
     "execution_count": 9,
     "metadata": {},
     "output_type": "execute_result"
    }
   ],
   "source": [
    "# Checking the overall statistical description of the data set\n",
    "data.describe()"
   ]
  },
  {
   "cell_type": "markdown",
   "metadata": {},
   "source": [
    "## Exploratory Data Analysis"
   ]
  },
  {
   "cell_type": "markdown",
   "metadata": {},
   "source": [
    "#### 1. Has a bank account"
   ]
  },
  {
   "cell_type": "code",
   "execution_count": 10,
   "metadata": {},
   "outputs": [
    {
     "data": {
      "text/plain": [
       "2"
      ]
     },
     "execution_count": 10,
     "metadata": {},
     "output_type": "execute_result"
    }
   ],
   "source": [
    "data['bank_account'].nunique()"
   ]
  },
  {
   "cell_type": "code",
   "execution_count": 11,
   "metadata": {},
   "outputs": [
    {
     "data": {
      "text/plain": [
       "No     20212\n",
       "Yes     3312\n",
       "Name: bank_account, dtype: int64"
      ]
     },
     "execution_count": 11,
     "metadata": {},
     "output_type": "execute_result"
    }
   ],
   "source": [
    "data['bank_account'].value_counts()"
   ]
  },
  {
   "cell_type": "markdown",
   "metadata": {},
   "source": [
    "This is a categorical column and also the target column."
   ]
  },
  {
   "cell_type": "markdown",
   "metadata": {},
   "source": [
    "#### 2. Gender of respondent"
   ]
  },
  {
   "cell_type": "code",
   "execution_count": 12,
   "metadata": {},
   "outputs": [
    {
     "data": {
      "text/plain": [
       "2"
      ]
     },
     "execution_count": 12,
     "metadata": {},
     "output_type": "execute_result"
    }
   ],
   "source": [
    "data['gender_of_respondent'].nunique()"
   ]
  },
  {
   "cell_type": "markdown",
   "metadata": {},
   "source": [
    "These is a categorical column."
   ]
  },
  {
   "cell_type": "code",
   "execution_count": 13,
   "metadata": {},
   "outputs": [
    {
     "data": {
      "text/plain": [
       "Female    13877\n",
       "Male       9647\n",
       "Name: gender_of_respondent, dtype: int64"
      ]
     },
     "execution_count": 13,
     "metadata": {},
     "output_type": "execute_result"
    }
   ],
   "source": [
    "data['gender_of_respondent'].value_counts()"
   ]
  },
  {
   "cell_type": "code",
   "execution_count": 8,
   "metadata": {},
   "outputs": [],
   "source": [
    "def perc_dist(df, column):\n",
    "    \"\"\"Function takes in a categorical column and returns \n",
    "    percentage distribution of the categories\"\"\"\n",
    "    entries = len(df)\n",
    "    val_list = list(df[column].unique())\n",
    "    perc = []\n",
    "    for val in val_list:\n",
    "        observations = len(df[df[column] == val])\n",
    "        ration = round((observations / entries) * 100, 2)\n",
    "        perc.append(ration)\n",
    "    # inserted the dataframe\n",
    "    output = pd.DataFrame(list(zip(val_list, perc)), columns= ['features', 'percentage'])\n",
    "    # sort\n",
    "    output = output.sort_values(by= 'percentage', ascending= False)\n",
    "    output.reset_index(inplace= True, drop= True)\n",
    "    return output"
   ]
  },
  {
   "cell_type": "code",
   "execution_count": 6,
   "metadata": {},
   "outputs": [
    {
     "data": {
      "text/html": [
       "<div>\n",
       "<style scoped>\n",
       "    .dataframe tbody tr th:only-of-type {\n",
       "        vertical-align: middle;\n",
       "    }\n",
       "\n",
       "    .dataframe tbody tr th {\n",
       "        vertical-align: top;\n",
       "    }\n",
       "\n",
       "    .dataframe thead th {\n",
       "        text-align: right;\n",
       "    }\n",
       "</style>\n",
       "<table border=\"1\" class=\"dataframe\">\n",
       "  <thead>\n",
       "    <tr style=\"text-align: right;\">\n",
       "      <th></th>\n",
       "      <th>features</th>\n",
       "      <th>percentage</th>\n",
       "    </tr>\n",
       "  </thead>\n",
       "  <tbody>\n",
       "    <tr>\n",
       "      <th>0</th>\n",
       "      <td>Female</td>\n",
       "      <td>58.99</td>\n",
       "    </tr>\n",
       "    <tr>\n",
       "      <th>1</th>\n",
       "      <td>Male</td>\n",
       "      <td>41.01</td>\n",
       "    </tr>\n",
       "  </tbody>\n",
       "</table>\n",
       "</div>"
      ],
      "text/plain": [
       "  features  percentage\n",
       "0   Female       58.99\n",
       "1     Male       41.01"
      ]
     },
     "execution_count": 6,
     "metadata": {},
     "output_type": "execute_result"
    }
   ],
   "source": [
    "# gender percentage of respondents\n",
    "perc_dist(data, 'gender_of_respondent')"
   ]
  },
  {
   "cell_type": "code",
   "execution_count": 16,
   "metadata": {},
   "outputs": [
    {
     "data": {
      "image/png": "[encoded data removed]",
      "text/plain": [
       "<Figure size 576x360 with 1 Axes>"
      ]
     },
     "metadata": {
      "needs_background": "light"
     },
     "output_type": "display_data"
    }
   ],
   "source": [
    "fig, ax = plt.subplots(figsize= (8, 5))\n",
    "sns.countplot(data= data, x= 'gender_of_respondent', hue= 'bank_account');"
   ]
  },
  {
   "cell_type": "markdown",
   "metadata": {},
   "source": [
    "There is a significantly high number of women who have no bank accounts compared to men. The number of men and women with access to bank accounts is about the same, with men slighly being higher than women.\n",
    "##### questions?\n",
    "1. What percentage of men have access to bank accounts?\n",
    "2. What percentage of women have access to bank accounts?\n",
    "3. What is the reason for this observations/ratios?"
   ]
  },
  {
   "cell_type": "markdown",
   "metadata": {},
   "source": [
    "#### 3. Marital status"
   ]
  },
  {
   "cell_type": "code",
   "execution_count": 17,
   "metadata": {},
   "outputs": [
    {
     "data": {
      "text/plain": [
       "5"
      ]
     },
     "execution_count": 17,
     "metadata": {},
     "output_type": "execute_result"
    }
   ],
   "source": [
    "data['marital_status'].nunique()"
   ]
  },
  {
   "cell_type": "code",
   "execution_count": 18,
   "metadata": {},
   "outputs": [
    {
     "data": {
      "text/plain": [
       "array(['Married/Living together', 'Widowed', 'Single/Never Married',\n",
       "       'Divorced/Seperated', 'Dont know'], dtype=object)"
      ]
     },
     "execution_count": 18,
     "metadata": {},
     "output_type": "execute_result"
    }
   ],
   "source": [
    "data['marital_status'].unique()"
   ]
  },
  {
   "cell_type": "code",
   "execution_count": 48,
   "metadata": {},
   "outputs": [],
   "source": [
    "data.loc[data['marital_status'] == 'Dont know', 'marital_status'] = 'Single/Never Married'"
   ]
  },
  {
   "cell_type": "code",
   "execution_count": 49,
   "metadata": {},
   "outputs": [
    {
     "data": {
      "text/html": [
       "<div>\n",
       "<style scoped>\n",
       "    .dataframe tbody tr th:only-of-type {\n",
       "        vertical-align: middle;\n",
       "    }\n",
       "\n",
       "    .dataframe tbody tr th {\n",
       "        vertical-align: top;\n",
       "    }\n",
       "\n",
       "    .dataframe thead th {\n",
       "        text-align: right;\n",
       "    }\n",
       "</style>\n",
       "<table border=\"1\" class=\"dataframe\">\n",
       "  <thead>\n",
       "    <tr style=\"text-align: right;\">\n",
       "      <th></th>\n",
       "      <th>features</th>\n",
       "      <th>percentage</th>\n",
       "    </tr>\n",
       "  </thead>\n",
       "  <tbody>\n",
       "    <tr>\n",
       "      <th>0</th>\n",
       "      <td>Married/Living together</td>\n",
       "      <td>45.69</td>\n",
       "    </tr>\n",
       "    <tr>\n",
       "      <th>1</th>\n",
       "      <td>Single/Never Married</td>\n",
       "      <td>33.97</td>\n",
       "    </tr>\n",
       "    <tr>\n",
       "      <th>2</th>\n",
       "      <td>Widowed</td>\n",
       "      <td>11.51</td>\n",
       "    </tr>\n",
       "    <tr>\n",
       "      <th>3</th>\n",
       "      <td>Divorced/Seperated</td>\n",
       "      <td>8.83</td>\n",
       "    </tr>\n",
       "  </tbody>\n",
       "</table>\n",
       "</div>"
      ],
      "text/plain": [
       "                  features  percentage\n",
       "0  Married/Living together       45.69\n",
       "1     Single/Never Married       33.97\n",
       "2                  Widowed       11.51\n",
       "3       Divorced/Seperated        8.83"
      ]
     },
     "execution_count": 49,
     "metadata": {},
     "output_type": "execute_result"
    }
   ],
   "source": [
    "perc_dist(data, 'marital_status')"
   ]
  },
  {
   "cell_type": "code",
   "execution_count": 21,
   "metadata": {},
   "outputs": [
    {
     "data": {
      "image/png": "[encoded data removed]",
      "text/plain": [
       "<Figure size 576x360 with 1 Axes>"
      ]
     },
     "metadata": {
      "needs_background": "light"
     },
     "output_type": "display_data"
    }
   ],
   "source": [
    "fig, ax = plt.subplots(figsize= (8, 5))\n",
    "sns.countplot(data= data, x= 'marital_status', hue= 'bank_account');"
   ]
  },
  {
   "cell_type": "markdown",
   "metadata": {},
   "source": [
    "The number of Married/Living together individuals without access to bank accounts is the highest, seconded by Single/Never Married, with Widowed and Divorced/Separated individuals being being just about the same. Overall the number of people with access to bank accounts seem to be very low.\n",
    "##### questions?\n",
    "1. Why do we observe such low number of people with access to banks?\n",
    "2. Why the high number of lack of access to banks in the Married/Living together? Can this be alleviated?\n",
    "3. What is the relationship between access to bank account and marital status?"
   ]
  },
  {
   "cell_type": "markdown",
   "metadata": {},
   "source": [
    "#### 4. Respondent age"
   ]
  },
  {
   "cell_type": "code",
   "execution_count": 22,
   "metadata": {},
   "outputs": [
    {
     "data": {
      "text/plain": [
       "count    23524.000000\n",
       "mean        38.805220\n",
       "std         16.520569\n",
       "min         16.000000\n",
       "25%         26.000000\n",
       "50%         35.000000\n",
       "75%         49.000000\n",
       "max        100.000000\n",
       "Name: age_of_respondent, dtype: float64"
      ]
     },
     "execution_count": 22,
     "metadata": {},
     "output_type": "execute_result"
    }
   ],
   "source": [
    "data['age_of_respondent'].describe()"
   ]
  },
  {
   "cell_type": "code",
   "execution_count": 23,
   "metadata": {},
   "outputs": [
    {
     "data": {
      "image/png": "[encoded data removed]",
      "text/plain": [
       "<Figure size 576x360 with 1 Axes>"
      ]
     },
     "metadata": {
      "needs_background": "light"
     },
     "output_type": "display_data"
    }
   ],
   "source": [
    "fig, ax = plt.subplots(figsize= (8, 5))\n",
    "sns.histplot(data= data, x= 'age_of_respondent', hue= 'bank_account', bins= 30, kde= True);"
   ]
  },
  {
   "cell_type": "markdown",
   "metadata": {},
   "source": [
    "The distribution of the people is skewed towards the right. Missing values will be replaced with the median value. But first, checking for outliers is the step we take below:"
   ]
  },
  {
   "cell_type": "code",
   "execution_count": 24,
   "metadata": {},
   "outputs": [
    {
     "data": {
      "image/png": "[encoded data removed]",
      "text/plain": [
       "<Figure size 576x360 with 1 Axes>"
      ]
     },
     "metadata": {
      "needs_background": "light"
     },
     "output_type": "display_data"
    }
   ],
   "source": [
    "fig, ax = plt.subplots(figsize= (8, 5))\n",
    "sns.boxplot(data= data, x= 'age_of_respondent');"
   ]
  },
  {
   "cell_type": "markdown",
   "metadata": {},
   "source": [
    "From the boxplot above, it appears that the age above 85 years could be outliers. Columns with values above 85 are dropped in below:"
   ]
  },
  {
   "cell_type": "code",
   "execution_count": 8,
   "metadata": {},
   "outputs": [
    {
     "data": {
      "text/plain": [
       "166"
      ]
     },
     "execution_count": 8,
     "metadata": {},
     "output_type": "execute_result"
    }
   ],
   "source": [
    "# checking number of values above 85\n",
    "exp = data[data['age_of_respondent'] > 85].copy()\n",
    "len(exp)"
   ]
  },
  {
   "cell_type": "code",
   "execution_count": 50,
   "metadata": {},
   "outputs": [],
   "source": [
    "data = data[data['age_of_respondent'] <= 85].copy()"
   ]
  },
  {
   "cell_type": "markdown",
   "metadata": {},
   "source": [
    "#### 5. Type of Job"
   ]
  },
  {
   "cell_type": "code",
   "execution_count": 27,
   "metadata": {},
   "outputs": [
    {
     "data": {
      "text/plain": [
       "10"
      ]
     },
     "execution_count": 27,
     "metadata": {},
     "output_type": "execute_result"
    }
   ],
   "source": [
    "data['job_type'].nunique()"
   ]
  },
  {
   "cell_type": "code",
   "execution_count": 28,
   "metadata": {},
   "outputs": [
    {
     "data": {
      "text/plain": [
       "array(['Self employed', 'Government Dependent',\n",
       "       'Formally employed Private', 'Informally employed',\n",
       "       'Formally employed Government', 'Farming and Fishing',\n",
       "       'Remittance Dependent', 'Other Income',\n",
       "       'Dont Know/Refuse to answer', 'No Income'], dtype=object)"
      ]
     },
     "execution_count": 28,
     "metadata": {},
     "output_type": "execute_result"
    }
   ],
   "source": [
    "data['job_type'].unique()"
   ]
  },
  {
   "cell_type": "code",
   "execution_count": 29,
   "metadata": {},
   "outputs": [
    {
     "data": {
      "image/png": "[encoded data removed]",
      "text/plain": [
       "<Figure size 720x720 with 1 Axes>"
      ]
     },
     "metadata": {
      "needs_background": "light"
     },
     "output_type": "display_data"
    }
   ],
   "source": [
    "fig, ax = plt.subplots(figsize= (10, 10))\n",
    "sns.countplot(data= data, y= 'job_type', hue= 'bank_account');"
   ]
  },
  {
   "cell_type": "markdown",
   "metadata": {},
   "source": [
    "#### 6. Level of Education"
   ]
  },
  {
   "cell_type": "code",
   "execution_count": 30,
   "metadata": {},
   "outputs": [
    {
     "data": {
      "text/plain": [
       "6"
      ]
     },
     "execution_count": 30,
     "metadata": {},
     "output_type": "execute_result"
    }
   ],
   "source": [
    "data['education_level'].nunique()"
   ]
  },
  {
   "cell_type": "code",
   "execution_count": 31,
   "metadata": {},
   "outputs": [
    {
     "data": {
      "text/plain": [
       "array(['Secondary education', 'No formal education',\n",
       "       'Vocational/Specialised training', 'Primary education',\n",
       "       'Tertiary education', 'Other/Dont know/RTA'], dtype=object)"
      ]
     },
     "execution_count": 31,
     "metadata": {},
     "output_type": "execute_result"
    }
   ],
   "source": [
    "data['education_level'].unique()"
   ]
  },
  {
   "cell_type": "code",
   "execution_count": 32,
   "metadata": {},
   "outputs": [
    {
     "data": {
      "image/png": "[encoded data removed]",
      "text/plain": [
       "<Figure size 576x360 with 1 Axes>"
      ]
     },
     "metadata": {
      "needs_background": "light"
     },
     "output_type": "display_data"
    }
   ],
   "source": [
    "fig, ax = plt.subplots(figsize= (8, 5))\n",
    "sns.countplot(data= data, y= 'education_level', hue= 'bank_account');"
   ]
  },
  {
   "cell_type": "code",
   "execution_count": 51,
   "metadata": {},
   "outputs": [],
   "source": [
    "data = data[data['education_level'] != 'Other/Dont know/RTA'].copy()"
   ]
  },
  {
   "cell_type": "code",
   "execution_count": 11,
   "metadata": {},
   "outputs": [
    {
     "data": {
      "image/png": "[encoded data removed]",
      "text/plain": [
       "<Figure size 576x360 with 1 Axes>"
      ]
     },
     "metadata": {
      "needs_background": "light"
     },
     "output_type": "display_data"
    }
   ],
   "source": [
    "fig, ax = plt.subplots(figsize= (8, 5))\n",
    "sns.countplot(data= data, y= 'education_level', hue= 'bank_account');"
   ]
  },
  {
   "cell_type": "markdown",
   "metadata": {},
   "source": [
    "There is significantly high number of people with no access to bank accounts with primary level education. Vocational/Specialiased and Tertiary education shows a balanced number between those with access to bank accounts and those without.\n",
    "##### questions?\n",
    "1. Does a level of education have an effect on access to banks?"
   ]
  },
  {
   "cell_type": "markdown",
   "metadata": {},
   "source": [
    "#### 7. Household size\n",
    "This is a categorical column."
   ]
  },
  {
   "cell_type": "code",
   "execution_count": 35,
   "metadata": {},
   "outputs": [
    {
     "data": {
      "text/plain": [
       "20"
      ]
     },
     "execution_count": 35,
     "metadata": {},
     "output_type": "execute_result"
    }
   ],
   "source": [
    "data['household_size'].nunique()"
   ]
  },
  {
   "cell_type": "code",
   "execution_count": 36,
   "metadata": {},
   "outputs": [
    {
     "data": {
      "text/plain": [
       "array([3, 5, 8, 7, 1])"
      ]
     },
     "execution_count": 36,
     "metadata": {},
     "output_type": "execute_result"
    }
   ],
   "source": [
    "data['household_size'].unique()[:5]"
   ]
  },
  {
   "cell_type": "code",
   "execution_count": 37,
   "metadata": {},
   "outputs": [
    {
     "data": {
      "image/png": "[encoded data removed]",
      "text/plain": [
       "<Figure size 576x360 with 1 Axes>"
      ]
     },
     "metadata": {
      "needs_background": "light"
     },
     "output_type": "display_data"
    }
   ],
   "source": [
    "fig, ax = plt.subplots(figsize= (8, 5))\n",
    "sns.countplot(data= data, x= 'household_size');"
   ]
  },
  {
   "cell_type": "markdown",
   "metadata": {},
   "source": [
    "Bining could help in the cardinality of the column. Null values will be filled with the median category first and then the zero values will be replaced with the modal class before bining."
   ]
  },
  {
   "cell_type": "code",
   "execution_count": 38,
   "metadata": {},
   "outputs": [
    {
     "data": {
      "image/png": "[encoded data removed]",
      "text/plain": [
       "<Figure size 576x360 with 1 Axes>"
      ]
     },
     "metadata": {
      "needs_background": "light"
     },
     "output_type": "display_data"
    }
   ],
   "source": [
    "fig, ax = plt.subplots(figsize= (8, 5))\n",
    "sns.boxplot(data= data, x= 'household_size');"
   ]
  },
  {
   "cell_type": "markdown",
   "metadata": {},
   "source": [
    "There are some outliers but since it is not a numerical continuous column, the best course of action should be bining."
   ]
  },
  {
   "cell_type": "code",
   "execution_count": 11,
   "metadata": {},
   "outputs": [],
   "source": [
    "def household(column):\n",
    "    if column <= 3:\n",
    "        return 'size 3 or below'\n",
    "    elif 3 < column <= 6:\n",
    "        return 'size btw 4 and 6'\n",
    "    elif 6 < column <= 10:\n",
    "        return 'size btw 7 and 10'\n",
    "    else:\n",
    "        return 'size above 10'"
   ]
  },
  {
   "cell_type": "code",
   "execution_count": 52,
   "metadata": {},
   "outputs": [],
   "source": [
    "data['household_size_binned'] = data['household_size'].apply(household)"
   ]
  },
  {
   "cell_type": "code",
   "execution_count": 14,
   "metadata": {},
   "outputs": [
    {
     "data": {
      "image/png": "[encoded data removed]",
      "text/plain": [
       "<Figure size 576x360 with 1 Axes>"
      ]
     },
     "metadata": {
      "needs_background": "light"
     },
     "output_type": "display_data"
    }
   ],
   "source": [
    "fig, ax = plt.subplots(figsize= (8, 5))\n",
    "sns.countplot(data= data, y= 'household_size_binned', hue= 'bank_account');"
   ]
  },
  {
   "cell_type": "markdown",
   "metadata": {},
   "source": [
    "#### 8. Country"
   ]
  },
  {
   "cell_type": "code",
   "execution_count": 42,
   "metadata": {},
   "outputs": [
    {
     "data": {
      "text/plain": [
       "4"
      ]
     },
     "execution_count": 42,
     "metadata": {},
     "output_type": "execute_result"
    }
   ],
   "source": [
    "data['country'].nunique()"
   ]
  },
  {
   "cell_type": "code",
   "execution_count": 43,
   "metadata": {},
   "outputs": [
    {
     "data": {
      "text/plain": [
       "array(['Kenya', 'Rwanda', 'Tanzania', 'Uganda'], dtype=object)"
      ]
     },
     "execution_count": 43,
     "metadata": {},
     "output_type": "execute_result"
    }
   ],
   "source": [
    "data['country'].unique()"
   ]
  },
  {
   "cell_type": "code",
   "execution_count": 44,
   "metadata": {},
   "outputs": [
    {
     "data": {
      "text/html": [
       "<div>\n",
       "<style scoped>\n",
       "    .dataframe tbody tr th:only-of-type {\n",
       "        vertical-align: middle;\n",
       "    }\n",
       "\n",
       "    .dataframe tbody tr th {\n",
       "        vertical-align: top;\n",
       "    }\n",
       "\n",
       "    .dataframe thead th {\n",
       "        text-align: right;\n",
       "    }\n",
       "</style>\n",
       "<table border=\"1\" class=\"dataframe\">\n",
       "  <thead>\n",
       "    <tr style=\"text-align: right;\">\n",
       "      <th></th>\n",
       "      <th>features</th>\n",
       "      <th>percentage</th>\n",
       "    </tr>\n",
       "  </thead>\n",
       "  <tbody>\n",
       "    <tr>\n",
       "      <th>0</th>\n",
       "      <td>Rwanda</td>\n",
       "      <td>37.16</td>\n",
       "    </tr>\n",
       "    <tr>\n",
       "      <th>1</th>\n",
       "      <td>Tanzania</td>\n",
       "      <td>28.15</td>\n",
       "    </tr>\n",
       "    <tr>\n",
       "      <th>2</th>\n",
       "      <td>Kenya</td>\n",
       "      <td>25.73</td>\n",
       "    </tr>\n",
       "    <tr>\n",
       "      <th>3</th>\n",
       "      <td>Uganda</td>\n",
       "      <td>8.95</td>\n",
       "    </tr>\n",
       "  </tbody>\n",
       "</table>\n",
       "</div>"
      ],
      "text/plain": [
       "   features  percentage\n",
       "0    Rwanda       37.16\n",
       "1  Tanzania       28.15\n",
       "2     Kenya       25.73\n",
       "3    Uganda        8.95"
      ]
     },
     "execution_count": 44,
     "metadata": {},
     "output_type": "execute_result"
    }
   ],
   "source": [
    "perc_dist(data, 'country')"
   ]
  },
  {
   "cell_type": "markdown",
   "metadata": {},
   "source": [
    "The minority class in the dataset is Uganda with about 9% of the data."
   ]
  },
  {
   "cell_type": "code",
   "execution_count": 45,
   "metadata": {},
   "outputs": [
    {
     "data": {
      "image/png": "[encoded data removed]",
      "text/plain": [
       "<Figure size 576x360 with 1 Axes>"
      ]
     },
     "metadata": {
      "needs_background": "light"
     },
     "output_type": "display_data"
    }
   ],
   "source": [
    "fig, ax = plt.subplots(figsize= (8, 5))\n",
    "sns.countplot(data= data, x= 'country', hue= 'bank_account');"
   ]
  },
  {
   "cell_type": "markdown",
   "metadata": {},
   "source": [
    "Rwanda has the highest number of people with no access to bank accounts followed by Tanzania, with Uganda having the lowest number of individuals with no access to bank accounts. Kenya has the highest number of individuals with access to bank accounts. Uganda has the lowest number of individuals with access to banks.\n",
    "##### questions?\n",
    "1. What factors, if any, in the respective countries influence access to banks?"
   ]
  },
  {
   "cell_type": "markdown",
   "metadata": {},
   "source": [
    "#### 9. Type of location"
   ]
  },
  {
   "cell_type": "code",
   "execution_count": 46,
   "metadata": {},
   "outputs": [
    {
     "data": {
      "text/plain": [
       "2"
      ]
     },
     "execution_count": 46,
     "metadata": {},
     "output_type": "execute_result"
    }
   ],
   "source": [
    "data['location_type'].nunique()"
   ]
  },
  {
   "cell_type": "code",
   "execution_count": 47,
   "metadata": {},
   "outputs": [
    {
     "data": {
      "text/html": [
       "<div>\n",
       "<style scoped>\n",
       "    .dataframe tbody tr th:only-of-type {\n",
       "        vertical-align: middle;\n",
       "    }\n",
       "\n",
       "    .dataframe tbody tr th {\n",
       "        vertical-align: top;\n",
       "    }\n",
       "\n",
       "    .dataframe thead th {\n",
       "        text-align: right;\n",
       "    }\n",
       "</style>\n",
       "<table border=\"1\" class=\"dataframe\">\n",
       "  <thead>\n",
       "    <tr style=\"text-align: right;\">\n",
       "      <th></th>\n",
       "      <th>features</th>\n",
       "      <th>percentage</th>\n",
       "    </tr>\n",
       "  </thead>\n",
       "  <tbody>\n",
       "    <tr>\n",
       "      <th>0</th>\n",
       "      <td>Rural</td>\n",
       "      <td>60.96</td>\n",
       "    </tr>\n",
       "    <tr>\n",
       "      <th>1</th>\n",
       "      <td>Urban</td>\n",
       "      <td>39.04</td>\n",
       "    </tr>\n",
       "  </tbody>\n",
       "</table>\n",
       "</div>"
      ],
      "text/plain": [
       "  features  percentage\n",
       "0    Rural       60.96\n",
       "1    Urban       39.04"
      ]
     },
     "execution_count": 47,
     "metadata": {},
     "output_type": "execute_result"
    }
   ],
   "source": [
    "perc_dist(data, 'location_type')"
   ]
  },
  {
   "cell_type": "code",
   "execution_count": 48,
   "metadata": {},
   "outputs": [
    {
     "data": {
      "image/png": "[encoded data removed]",
      "text/plain": [
       "<Figure size 576x360 with 1 Axes>"
      ]
     },
     "metadata": {
      "needs_background": "light"
     },
     "output_type": "display_data"
    }
   ],
   "source": [
    "fig, ax = plt.subplots(figsize= (8, 5))\n",
    "sns.countplot(data= data, x= 'location_type', hue= 'bank_account');"
   ]
  },
  {
   "cell_type": "markdown",
   "metadata": {},
   "source": [
    "High number of people with no access to bank accounts is no surprise in rural areas, however, the number of people with access to bank accounts is about the same between rural and urban residents.\n",
    "##### questions?\n",
    "1. Why the low number of people with access to bank account in urban areas?"
   ]
  },
  {
   "cell_type": "markdown",
   "metadata": {},
   "source": [
    "#### 10. Relationship with the head"
   ]
  },
  {
   "cell_type": "code",
   "execution_count": 49,
   "metadata": {},
   "outputs": [
    {
     "data": {
      "text/plain": [
       "6"
      ]
     },
     "execution_count": 49,
     "metadata": {},
     "output_type": "execute_result"
    }
   ],
   "source": [
    "data['relationship_with_head'].nunique()"
   ]
  },
  {
   "cell_type": "code",
   "execution_count": 50,
   "metadata": {},
   "outputs": [
    {
     "data": {
      "text/html": [
       "<div>\n",
       "<style scoped>\n",
       "    .dataframe tbody tr th:only-of-type {\n",
       "        vertical-align: middle;\n",
       "    }\n",
       "\n",
       "    .dataframe tbody tr th {\n",
       "        vertical-align: top;\n",
       "    }\n",
       "\n",
       "    .dataframe thead th {\n",
       "        text-align: right;\n",
       "    }\n",
       "</style>\n",
       "<table border=\"1\" class=\"dataframe\">\n",
       "  <thead>\n",
       "    <tr style=\"text-align: right;\">\n",
       "      <th></th>\n",
       "      <th>features</th>\n",
       "      <th>percentage</th>\n",
       "    </tr>\n",
       "  </thead>\n",
       "  <tbody>\n",
       "    <tr>\n",
       "      <th>0</th>\n",
       "      <td>Head of Household</td>\n",
       "      <td>54.31</td>\n",
       "    </tr>\n",
       "    <tr>\n",
       "      <th>1</th>\n",
       "      <td>Spouse</td>\n",
       "      <td>27.88</td>\n",
       "    </tr>\n",
       "    <tr>\n",
       "      <th>2</th>\n",
       "      <td>Child</td>\n",
       "      <td>9.51</td>\n",
       "    </tr>\n",
       "    <tr>\n",
       "      <th>3</th>\n",
       "      <td>Parent</td>\n",
       "      <td>4.63</td>\n",
       "    </tr>\n",
       "    <tr>\n",
       "      <th>4</th>\n",
       "      <td>Other relative</td>\n",
       "      <td>2.85</td>\n",
       "    </tr>\n",
       "    <tr>\n",
       "      <th>5</th>\n",
       "      <td>Other non-relatives</td>\n",
       "      <td>0.81</td>\n",
       "    </tr>\n",
       "  </tbody>\n",
       "</table>\n",
       "</div>"
      ],
      "text/plain": [
       "              features  percentage\n",
       "0    Head of Household       54.31\n",
       "1               Spouse       27.88\n",
       "2                Child        9.51\n",
       "3               Parent        4.63\n",
       "4       Other relative        2.85\n",
       "5  Other non-relatives        0.81"
      ]
     },
     "execution_count": 50,
     "metadata": {},
     "output_type": "execute_result"
    }
   ],
   "source": [
    "perc_dist(data, 'relationship_with_head')"
   ]
  },
  {
   "cell_type": "code",
   "execution_count": 51,
   "metadata": {},
   "outputs": [
    {
     "data": {
      "image/png": "[encoded data removed]",
      "text/plain": [
       "<Figure size 576x360 with 1 Axes>"
      ]
     },
     "metadata": {
      "needs_background": "light"
     },
     "output_type": "display_data"
    }
   ],
   "source": [
    "fig, ax = plt.subplots(figsize= (8, 5))\n",
    "sns.countplot(data= data, y= 'relationship_with_head', hue= 'bank_account');"
   ]
  },
  {
   "cell_type": "markdown",
   "metadata": {},
   "source": [
    "Most people with no access to bank accounts are head of households."
   ]
  },
  {
   "cell_type": "markdown",
   "metadata": {},
   "source": [
    "#### 11. Cell phone access"
   ]
  },
  {
   "cell_type": "code",
   "execution_count": 52,
   "metadata": {},
   "outputs": [
    {
     "data": {
      "text/plain": [
       "2"
      ]
     },
     "execution_count": 52,
     "metadata": {},
     "output_type": "execute_result"
    }
   ],
   "source": [
    "data['cellphone_access'].nunique()"
   ]
  },
  {
   "cell_type": "code",
   "execution_count": 53,
   "metadata": {},
   "outputs": [
    {
     "data": {
      "text/html": [
       "<div>\n",
       "<style scoped>\n",
       "    .dataframe tbody tr th:only-of-type {\n",
       "        vertical-align: middle;\n",
       "    }\n",
       "\n",
       "    .dataframe tbody tr th {\n",
       "        vertical-align: top;\n",
       "    }\n",
       "\n",
       "    .dataframe thead th {\n",
       "        text-align: right;\n",
       "    }\n",
       "</style>\n",
       "<table border=\"1\" class=\"dataframe\">\n",
       "  <thead>\n",
       "    <tr style=\"text-align: right;\">\n",
       "      <th></th>\n",
       "      <th>features</th>\n",
       "      <th>percentage</th>\n",
       "    </tr>\n",
       "  </thead>\n",
       "  <tbody>\n",
       "    <tr>\n",
       "      <th>0</th>\n",
       "      <td>Yes</td>\n",
       "      <td>74.54</td>\n",
       "    </tr>\n",
       "    <tr>\n",
       "      <th>1</th>\n",
       "      <td>No</td>\n",
       "      <td>25.46</td>\n",
       "    </tr>\n",
       "  </tbody>\n",
       "</table>\n",
       "</div>"
      ],
      "text/plain": [
       "  features  percentage\n",
       "0      Yes       74.54\n",
       "1       No       25.46"
      ]
     },
     "execution_count": 53,
     "metadata": {},
     "output_type": "execute_result"
    }
   ],
   "source": [
    "perc_dist(data, 'cellphone_access')"
   ]
  },
  {
   "cell_type": "code",
   "execution_count": 54,
   "metadata": {},
   "outputs": [
    {
     "data": {
      "image/png": "[encoded data removed]",
      "text/plain": [
       "<Figure size 432x288 with 1 Axes>"
      ]
     },
     "metadata": {
      "needs_background": "light"
     },
     "output_type": "display_data"
    }
   ],
   "source": [
    "sns.countplot(data= data, x= 'cellphone_access', hue= 'bank_account');"
   ]
  },
  {
   "cell_type": "markdown",
   "metadata": {},
   "source": [
    "People with cell phones have the highest number of people with no access to bank accounts. This is surprising given the advancement in technology.\n",
    "##### questions?\n",
    "1. Why do we have high number of people with cell phones without access to banks?"
   ]
  },
  {
   "cell_type": "code",
   "execution_count": 53,
   "metadata": {},
   "outputs": [],
   "source": [
    "# dropping unneccessary columns\n",
    "dropped = ['year', 'uniqueid', 'household_size']\n",
    "data.drop(columns= dropped, inplace= True)"
   ]
  },
  {
   "cell_type": "code",
   "execution_count": 54,
   "metadata": {},
   "outputs": [
    {
     "data": {
      "text/plain": [
       "Index(['country', 'bank_account', 'location_type', 'cellphone_access',\n",
       "       'age_of_respondent', 'gender_of_respondent', 'relationship_with_head',\n",
       "       'marital_status', 'education_level', 'job_type',\n",
       "       'household_size_binned'],\n",
       "      dtype='object')"
      ]
     },
     "execution_count": 54,
     "metadata": {},
     "output_type": "execute_result"
    }
   ],
   "source": [
    "data.columns"
   ]
  },
  {
   "cell_type": "markdown",
   "metadata": {},
   "source": [
    "### Test dataset"
   ]
  },
  {
   "cell_type": "code",
   "execution_count": 55,
   "metadata": {},
   "outputs": [
    {
     "data": {
      "text/html": [
       "<div>\n",
       "<style scoped>\n",
       "    .dataframe tbody tr th:only-of-type {\n",
       "        vertical-align: middle;\n",
       "    }\n",
       "\n",
       "    .dataframe tbody tr th {\n",
       "        vertical-align: top;\n",
       "    }\n",
       "\n",
       "    .dataframe thead th {\n",
       "        text-align: right;\n",
       "    }\n",
       "</style>\n",
       "<table border=\"1\" class=\"dataframe\">\n",
       "  <thead>\n",
       "    <tr style=\"text-align: right;\">\n",
       "      <th></th>\n",
       "      <th>country</th>\n",
       "      <th>year</th>\n",
       "      <th>uniqueid</th>\n",
       "      <th>location_type</th>\n",
       "      <th>cellphone_access</th>\n",
       "      <th>household_size</th>\n",
       "      <th>age_of_respondent</th>\n",
       "      <th>gender_of_respondent</th>\n",
       "      <th>relationship_with_head</th>\n",
       "      <th>marital_status</th>\n",
       "      <th>education_level</th>\n",
       "      <th>job_type</th>\n",
       "    </tr>\n",
       "  </thead>\n",
       "  <tbody>\n",
       "    <tr>\n",
       "      <th>0</th>\n",
       "      <td>Kenya</td>\n",
       "      <td>2018</td>\n",
       "      <td>uniqueid_6056</td>\n",
       "      <td>Urban</td>\n",
       "      <td>Yes</td>\n",
       "      <td>3</td>\n",
       "      <td>30</td>\n",
       "      <td>Male</td>\n",
       "      <td>Head of Household</td>\n",
       "      <td>Married/Living together</td>\n",
       "      <td>Secondary education</td>\n",
       "      <td>Formally employed Government</td>\n",
       "    </tr>\n",
       "    <tr>\n",
       "      <th>1</th>\n",
       "      <td>Kenya</td>\n",
       "      <td>2018</td>\n",
       "      <td>uniqueid_6060</td>\n",
       "      <td>Urban</td>\n",
       "      <td>Yes</td>\n",
       "      <td>7</td>\n",
       "      <td>51</td>\n",
       "      <td>Male</td>\n",
       "      <td>Head of Household</td>\n",
       "      <td>Married/Living together</td>\n",
       "      <td>Vocational/Specialised training</td>\n",
       "      <td>Formally employed Private</td>\n",
       "    </tr>\n",
       "    <tr>\n",
       "      <th>2</th>\n",
       "      <td>Kenya</td>\n",
       "      <td>2018</td>\n",
       "      <td>uniqueid_6065</td>\n",
       "      <td>Rural</td>\n",
       "      <td>No</td>\n",
       "      <td>3</td>\n",
       "      <td>77</td>\n",
       "      <td>Female</td>\n",
       "      <td>Parent</td>\n",
       "      <td>Married/Living together</td>\n",
       "      <td>No formal education</td>\n",
       "      <td>Remittance Dependent</td>\n",
       "    </tr>\n",
       "    <tr>\n",
       "      <th>3</th>\n",
       "      <td>Kenya</td>\n",
       "      <td>2018</td>\n",
       "      <td>uniqueid_6072</td>\n",
       "      <td>Rural</td>\n",
       "      <td>No</td>\n",
       "      <td>6</td>\n",
       "      <td>39</td>\n",
       "      <td>Female</td>\n",
       "      <td>Head of Household</td>\n",
       "      <td>Married/Living together</td>\n",
       "      <td>Primary education</td>\n",
       "      <td>Remittance Dependent</td>\n",
       "    </tr>\n",
       "    <tr>\n",
       "      <th>4</th>\n",
       "      <td>Kenya</td>\n",
       "      <td>2018</td>\n",
       "      <td>uniqueid_6073</td>\n",
       "      <td>Urban</td>\n",
       "      <td>No</td>\n",
       "      <td>3</td>\n",
       "      <td>16</td>\n",
       "      <td>Male</td>\n",
       "      <td>Child</td>\n",
       "      <td>Single/Never Married</td>\n",
       "      <td>Secondary education</td>\n",
       "      <td>Remittance Dependent</td>\n",
       "    </tr>\n",
       "  </tbody>\n",
       "</table>\n",
       "</div>"
      ],
      "text/plain": [
       "  country  year       uniqueid location_type cellphone_access  household_size  \\\n",
       "0   Kenya  2018  uniqueid_6056         Urban              Yes               3   \n",
       "1   Kenya  2018  uniqueid_6060         Urban              Yes               7   \n",
       "2   Kenya  2018  uniqueid_6065         Rural               No               3   \n",
       "3   Kenya  2018  uniqueid_6072         Rural               No               6   \n",
       "4   Kenya  2018  uniqueid_6073         Urban               No               3   \n",
       "\n",
       "   age_of_respondent gender_of_respondent relationship_with_head  \\\n",
       "0                 30                 Male      Head of Household   \n",
       "1                 51                 Male      Head of Household   \n",
       "2                 77               Female                 Parent   \n",
       "3                 39               Female      Head of Household   \n",
       "4                 16                 Male                  Child   \n",
       "\n",
       "            marital_status                  education_level  \\\n",
       "0  Married/Living together              Secondary education   \n",
       "1  Married/Living together  Vocational/Specialised training   \n",
       "2  Married/Living together              No formal education   \n",
       "3  Married/Living together                Primary education   \n",
       "4     Single/Never Married              Secondary education   \n",
       "\n",
       "                       job_type  \n",
       "0  Formally employed Government  \n",
       "1     Formally employed Private  \n",
       "2          Remittance Dependent  \n",
       "3          Remittance Dependent  \n",
       "4          Remittance Dependent  "
      ]
     },
     "execution_count": 55,
     "metadata": {},
     "output_type": "execute_result"
    }
   ],
   "source": [
    "test.head()"
   ]
  },
  {
   "cell_type": "code",
   "execution_count": 71,
   "metadata": {},
   "outputs": [],
   "source": [
    "test = test[test['age_of_respondent'] <= 85].copy()\n",
    "test = test[test['education_level'] != 'Other/Dont know/RTA'].copy()"
   ]
  },
  {
   "cell_type": "code",
   "execution_count": 57,
   "metadata": {},
   "outputs": [],
   "source": [
    "def test_clean(df):\n",
    "    df['household_size_binned'] = df['household_size'].apply(household)\n",
    "#     df = df[df['age_of_respondent'] <= 85].copy()\n",
    "    df.loc[df['marital_status'] == 'Dont know', 'marital_status'] = 'Single/Never Married'\n",
    "#     df = df[df['education_level'] != 'Other/Dont know/RTA'].copy()\n",
    "    df.drop(columns= dropped, inplace= True)\n",
    "    return df"
   ]
  },
  {
   "cell_type": "code",
   "execution_count": 58,
   "metadata": {},
   "outputs": [
    {
     "data": {
      "text/plain": [
       "Index(['country', 'location_type', 'cellphone_access', 'age_of_respondent',\n",
       "       'gender_of_respondent', 'relationship_with_head', 'marital_status',\n",
       "       'education_level', 'job_type', 'household_size_binned'],\n",
       "      dtype='object')"
      ]
     },
     "execution_count": 58,
     "metadata": {},
     "output_type": "execute_result"
    }
   ],
   "source": [
    "test_copy = test_clean(test)\n",
    "test_copy.columns"
   ]
  },
  {
   "cell_type": "code",
   "execution_count": 2,
   "metadata": {},
   "outputs": [
    {
     "data": {
      "text/plain": [
       "(10013, 10)"
      ]
     },
     "execution_count": 2,
     "metadata": {},
     "output_type": "execute_result"
    }
   ],
   "source": [
    "# test_copy.to_csv('data/test_cleaned.csv', index= False)\n",
    "test_copy = pd.read_csv('data/test_cleaned.csv')\n",
    "test_copy.shape"
   ]
  },
  {
   "cell_type": "code",
   "execution_count": 3,
   "metadata": {},
   "outputs": [
    {
     "data": {
      "text/html": [
       "<div>\n",
       "<style scoped>\n",
       "    .dataframe tbody tr th:only-of-type {\n",
       "        vertical-align: middle;\n",
       "    }\n",
       "\n",
       "    .dataframe tbody tr th {\n",
       "        vertical-align: top;\n",
       "    }\n",
       "\n",
       "    .dataframe thead th {\n",
       "        text-align: right;\n",
       "    }\n",
       "</style>\n",
       "<table border=\"1\" class=\"dataframe\">\n",
       "  <thead>\n",
       "    <tr style=\"text-align: right;\">\n",
       "      <th></th>\n",
       "      <th>country</th>\n",
       "      <th>location_type</th>\n",
       "      <th>cellphone_access</th>\n",
       "      <th>age_of_respondent</th>\n",
       "      <th>gender_of_respondent</th>\n",
       "      <th>relationship_with_head</th>\n",
       "      <th>marital_status</th>\n",
       "      <th>education_level</th>\n",
       "      <th>job_type</th>\n",
       "      <th>household_size_binned</th>\n",
       "    </tr>\n",
       "  </thead>\n",
       "  <tbody>\n",
       "    <tr>\n",
       "      <th>0</th>\n",
       "      <td>Kenya</td>\n",
       "      <td>Urban</td>\n",
       "      <td>Yes</td>\n",
       "      <td>30</td>\n",
       "      <td>Male</td>\n",
       "      <td>Head of Household</td>\n",
       "      <td>Married/Living together</td>\n",
       "      <td>Secondary education</td>\n",
       "      <td>Formally employed Government</td>\n",
       "      <td>size 3 or below</td>\n",
       "    </tr>\n",
       "    <tr>\n",
       "      <th>1</th>\n",
       "      <td>Kenya</td>\n",
       "      <td>Urban</td>\n",
       "      <td>Yes</td>\n",
       "      <td>51</td>\n",
       "      <td>Male</td>\n",
       "      <td>Head of Household</td>\n",
       "      <td>Married/Living together</td>\n",
       "      <td>Vocational/Specialised training</td>\n",
       "      <td>Formally employed Private</td>\n",
       "      <td>size btw 7 and 10</td>\n",
       "    </tr>\n",
       "    <tr>\n",
       "      <th>2</th>\n",
       "      <td>Kenya</td>\n",
       "      <td>Rural</td>\n",
       "      <td>No</td>\n",
       "      <td>77</td>\n",
       "      <td>Female</td>\n",
       "      <td>Parent</td>\n",
       "      <td>Married/Living together</td>\n",
       "      <td>No formal education</td>\n",
       "      <td>Remittance Dependent</td>\n",
       "      <td>size 3 or below</td>\n",
       "    </tr>\n",
       "    <tr>\n",
       "      <th>3</th>\n",
       "      <td>Kenya</td>\n",
       "      <td>Rural</td>\n",
       "      <td>No</td>\n",
       "      <td>39</td>\n",
       "      <td>Female</td>\n",
       "      <td>Head of Household</td>\n",
       "      <td>Married/Living together</td>\n",
       "      <td>Primary education</td>\n",
       "      <td>Remittance Dependent</td>\n",
       "      <td>size btw 4 and 6</td>\n",
       "    </tr>\n",
       "    <tr>\n",
       "      <th>4</th>\n",
       "      <td>Kenya</td>\n",
       "      <td>Urban</td>\n",
       "      <td>No</td>\n",
       "      <td>16</td>\n",
       "      <td>Male</td>\n",
       "      <td>Child</td>\n",
       "      <td>Single/Never Married</td>\n",
       "      <td>Secondary education</td>\n",
       "      <td>Remittance Dependent</td>\n",
       "      <td>size 3 or below</td>\n",
       "    </tr>\n",
       "  </tbody>\n",
       "</table>\n",
       "</div>"
      ],
      "text/plain": [
       "  country location_type cellphone_access  age_of_respondent  \\\n",
       "0   Kenya         Urban              Yes                 30   \n",
       "1   Kenya         Urban              Yes                 51   \n",
       "2   Kenya         Rural               No                 77   \n",
       "3   Kenya         Rural               No                 39   \n",
       "4   Kenya         Urban               No                 16   \n",
       "\n",
       "  gender_of_respondent relationship_with_head           marital_status  \\\n",
       "0                 Male      Head of Household  Married/Living together   \n",
       "1                 Male      Head of Household  Married/Living together   \n",
       "2               Female                 Parent  Married/Living together   \n",
       "3               Female      Head of Household  Married/Living together   \n",
       "4                 Male                  Child     Single/Never Married   \n",
       "\n",
       "                   education_level                      job_type  \\\n",
       "0              Secondary education  Formally employed Government   \n",
       "1  Vocational/Specialised training     Formally employed Private   \n",
       "2              No formal education          Remittance Dependent   \n",
       "3                Primary education          Remittance Dependent   \n",
       "4              Secondary education          Remittance Dependent   \n",
       "\n",
       "  household_size_binned  \n",
       "0       size 3 or below  \n",
       "1     size btw 7 and 10  \n",
       "2       size 3 or below  \n",
       "3      size btw 4 and 6  \n",
       "4       size 3 or below  "
      ]
     },
     "execution_count": 3,
     "metadata": {},
     "output_type": "execute_result"
    }
   ],
   "source": [
    "test_copy.head()"
   ]
  },
  {
   "cell_type": "code",
   "execution_count": 3,
   "metadata": {},
   "outputs": [
    {
     "data": {
      "text/plain": [
       "(23324, 11)"
      ]
     },
     "execution_count": 3,
     "metadata": {},
     "output_type": "execute_result"
    }
   ],
   "source": [
    "# data.to_csv('data/train_cleaned.csv', index= False)\n",
    "data = pd.read_csv('data/train_cleaned.csv')\n",
    "data.shape"
   ]
  },
  {
   "cell_type": "markdown",
   "metadata": {},
   "source": [
    "## Preprocessing"
   ]
  },
  {
   "cell_type": "markdown",
   "metadata": {},
   "source": [
    "Train and test set will be preprocessed, making use of OneHotEncode, LabelEncoder, scaling etc where necessary. A copy of the main train set will be made and be prepared for algrithms suited to work with numerical values rather than text values."
   ]
  },
  {
   "cell_type": "code",
   "execution_count": 4,
   "metadata": {},
   "outputs": [],
   "source": [
    "data_preprocessed = data.copy()"
   ]
  },
  {
   "cell_type": "code",
   "execution_count": 5,
   "metadata": {},
   "outputs": [],
   "source": [
    "# instantiating encoders and scaler\n",
    "le = LabelEncoder()\n",
    "ohe = OneHotEncoder(sparse= False, handle_unknown= 'ignore')\n",
    "scaler = MinMaxScaler()\n",
    "# pca = PCA(n_components= 1)"
   ]
  },
  {
   "cell_type": "code",
   "execution_count": 6,
   "metadata": {},
   "outputs": [],
   "source": [
    "data_preprocessed['bank_account'] = le.fit_transform(data_preprocessed['bank_account'])"
   ]
  },
  {
   "cell_type": "code",
   "execution_count": 7,
   "metadata": {},
   "outputs": [
    {
     "data": {
      "text/plain": [
       "array(['No', 'Yes'], dtype=object)"
      ]
     },
     "execution_count": 7,
     "metadata": {},
     "output_type": "execute_result"
    }
   ],
   "source": [
    "le.classes_"
   ]
  },
  {
   "cell_type": "code",
   "execution_count": 8,
   "metadata": {},
   "outputs": [],
   "source": [
    "y = data_preprocessed['bank_account']\n",
    "X = data_preprocessed.drop('bank_account', axis= 1)"
   ]
  },
  {
   "cell_type": "code",
   "execution_count": 9,
   "metadata": {},
   "outputs": [
    {
     "data": {
      "text/plain": [
       "Index(['country', 'location_type', 'cellphone_access', 'age_of_respondent',\n",
       "       'gender_of_respondent', 'relationship_with_head', 'marital_status',\n",
       "       'education_level', 'job_type', 'household_size_binned'],\n",
       "      dtype='object')"
      ]
     },
     "execution_count": 9,
     "metadata": {},
     "output_type": "execute_result"
    }
   ],
   "source": [
    "X.columns"
   ]
  },
  {
   "cell_type": "code",
   "execution_count": 10,
   "metadata": {},
   "outputs": [],
   "source": [
    "categorical = ['country', 'location_type', 'cellphone_access', \n",
    "               'gender_of_respondent', 'relationship_with_head',\n",
    "               'marital_status', 'education_level', 'job_type', 'household_size_binned']"
   ]
  },
  {
   "cell_type": "code",
   "execution_count": 11,
   "metadata": {},
   "outputs": [],
   "source": [
    "def ohe_col(df, column):\n",
    "    \"\"\"This function takes a dataframe and categorical column name\n",
    "    and returns the one hot encoded column\"\"\"\n",
    "    column_vals = df[[column]]\n",
    "    ohe = OneHotEncoder(sparse= False, handle_unknown= 'ignore')\n",
    "    ohe.fit(column_vals)\n",
    "    column_ohe = ohe.transform(column_vals)\n",
    "    col_val_encoded = pd.DataFrame(column_ohe,\n",
    "                                   columns= ohe.categories_[0],\n",
    "                                   index= df.index)\n",
    "    return col_val_encoded"
   ]
  },
  {
   "cell_type": "code",
   "execution_count": 12,
   "metadata": {},
   "outputs": [],
   "source": [
    "def cat_list(df, cat):\n",
    "    \"\"\"This function takes in a dataframe and a list of categorical columns\n",
    "    and returns the one hot encoded dataframe\"\"\"\n",
    "    for c in cat:\n",
    "        col_ohe = ohe_col(df, c)\n",
    "        df = pd.concat([df, col_ohe], axis= 1)\n",
    "        df.drop(c, axis= 1, inplace= True)\n",
    "    return df"
   ]
  },
  {
   "cell_type": "code",
   "execution_count": 13,
   "metadata": {},
   "outputs": [
    {
     "data": {
      "text/plain": [
       "(23324, 40)"
      ]
     },
     "execution_count": 13,
     "metadata": {},
     "output_type": "execute_result"
    }
   ],
   "source": [
    "# Obtaining one hot encoded columns\n",
    "X_ohe = cat_list(X, categorical)\n",
    "X_ohe.shape"
   ]
  },
  {
   "cell_type": "code",
   "execution_count": 14,
   "metadata": {},
   "outputs": [],
   "source": [
    "# splitting the data into train test split\n",
    "X_train, X_test, y_train, y_test = train_test_split(X_ohe, y, test_size= .50, random_state= 0)"
   ]
  },
  {
   "cell_type": "code",
   "execution_count": 15,
   "metadata": {},
   "outputs": [
    {
     "name": "stdout",
     "output_type": "stream",
     "text": [
      "X train shape is (11662, 40)\n",
      "X test shape is (11662, 40)\n"
     ]
    }
   ],
   "source": [
    "print('X train shape is', X_train.shape)\n",
    "print('X test shape is', X_test.shape)"
   ]
  },
  {
   "cell_type": "code",
   "execution_count": 16,
   "metadata": {},
   "outputs": [],
   "source": [
    "# scaling the age_of_respondent column on train set\n",
    "X_train_numeric = X_train[['age_of_respondent']].copy()\n",
    "# fitting and transforming\n",
    "scaler.fit(X_train_numeric)\n",
    "X_train_num_scaled = scaler.transform(X_train_numeric)\n",
    "#changing to dataframe\n",
    "X_train_num_scaled = pd.DataFrame(X_train_num_scaled,\n",
    "                                  index= X_train_numeric.index,\n",
    "                                  columns= X_train_numeric.columns)\n",
    "X_train_full = pd.concat([X_train.drop('age_of_respondent', axis= 1), X_train_num_scaled], axis= 1)"
   ]
  },
  {
   "cell_type": "code",
   "execution_count": 17,
   "metadata": {},
   "outputs": [
    {
     "data": {
      "text/html": [
       "<div>\n",
       "<style scoped>\n",
       "    .dataframe tbody tr th:only-of-type {\n",
       "        vertical-align: middle;\n",
       "    }\n",
       "\n",
       "    .dataframe tbody tr th {\n",
       "        vertical-align: top;\n",
       "    }\n",
       "\n",
       "    .dataframe thead th {\n",
       "        text-align: right;\n",
       "    }\n",
       "</style>\n",
       "<table border=\"1\" class=\"dataframe\">\n",
       "  <thead>\n",
       "    <tr style=\"text-align: right;\">\n",
       "      <th></th>\n",
       "      <th>Kenya</th>\n",
       "      <th>Rwanda</th>\n",
       "      <th>Tanzania</th>\n",
       "      <th>Uganda</th>\n",
       "      <th>Rural</th>\n",
       "      <th>Urban</th>\n",
       "      <th>No</th>\n",
       "      <th>Yes</th>\n",
       "      <th>Female</th>\n",
       "      <th>Male</th>\n",
       "      <th>...</th>\n",
       "      <th>Informally employed</th>\n",
       "      <th>No Income</th>\n",
       "      <th>Other Income</th>\n",
       "      <th>Remittance Dependent</th>\n",
       "      <th>Self employed</th>\n",
       "      <th>size 3 or below</th>\n",
       "      <th>size above 10</th>\n",
       "      <th>size btw 4 and 6</th>\n",
       "      <th>size btw 7 and 10</th>\n",
       "      <th>age_of_respondent</th>\n",
       "    </tr>\n",
       "  </thead>\n",
       "  <tbody>\n",
       "    <tr>\n",
       "      <th>22796</th>\n",
       "      <td>0.0</td>\n",
       "      <td>0.0</td>\n",
       "      <td>0.0</td>\n",
       "      <td>1.0</td>\n",
       "      <td>1.0</td>\n",
       "      <td>0.0</td>\n",
       "      <td>0.0</td>\n",
       "      <td>1.0</td>\n",
       "      <td>0.0</td>\n",
       "      <td>1.0</td>\n",
       "      <td>...</td>\n",
       "      <td>0.0</td>\n",
       "      <td>0.0</td>\n",
       "      <td>0.0</td>\n",
       "      <td>0.0</td>\n",
       "      <td>1.0</td>\n",
       "      <td>1.0</td>\n",
       "      <td>0.0</td>\n",
       "      <td>0.0</td>\n",
       "      <td>0.0</td>\n",
       "      <td>0.130435</td>\n",
       "    </tr>\n",
       "    <tr>\n",
       "      <th>15786</th>\n",
       "      <td>0.0</td>\n",
       "      <td>0.0</td>\n",
       "      <td>1.0</td>\n",
       "      <td>0.0</td>\n",
       "      <td>0.0</td>\n",
       "      <td>1.0</td>\n",
       "      <td>1.0</td>\n",
       "      <td>0.0</td>\n",
       "      <td>1.0</td>\n",
       "      <td>0.0</td>\n",
       "      <td>...</td>\n",
       "      <td>1.0</td>\n",
       "      <td>0.0</td>\n",
       "      <td>0.0</td>\n",
       "      <td>0.0</td>\n",
       "      <td>0.0</td>\n",
       "      <td>1.0</td>\n",
       "      <td>0.0</td>\n",
       "      <td>0.0</td>\n",
       "      <td>0.0</td>\n",
       "      <td>0.362319</td>\n",
       "    </tr>\n",
       "    <tr>\n",
       "      <th>18124</th>\n",
       "      <td>0.0</td>\n",
       "      <td>0.0</td>\n",
       "      <td>1.0</td>\n",
       "      <td>0.0</td>\n",
       "      <td>1.0</td>\n",
       "      <td>0.0</td>\n",
       "      <td>1.0</td>\n",
       "      <td>0.0</td>\n",
       "      <td>0.0</td>\n",
       "      <td>1.0</td>\n",
       "      <td>...</td>\n",
       "      <td>0.0</td>\n",
       "      <td>0.0</td>\n",
       "      <td>0.0</td>\n",
       "      <td>1.0</td>\n",
       "      <td>0.0</td>\n",
       "      <td>0.0</td>\n",
       "      <td>0.0</td>\n",
       "      <td>1.0</td>\n",
       "      <td>0.0</td>\n",
       "      <td>0.927536</td>\n",
       "    </tr>\n",
       "    <tr>\n",
       "      <th>13920</th>\n",
       "      <td>0.0</td>\n",
       "      <td>1.0</td>\n",
       "      <td>0.0</td>\n",
       "      <td>0.0</td>\n",
       "      <td>1.0</td>\n",
       "      <td>0.0</td>\n",
       "      <td>0.0</td>\n",
       "      <td>1.0</td>\n",
       "      <td>0.0</td>\n",
       "      <td>1.0</td>\n",
       "      <td>...</td>\n",
       "      <td>0.0</td>\n",
       "      <td>0.0</td>\n",
       "      <td>0.0</td>\n",
       "      <td>0.0</td>\n",
       "      <td>0.0</td>\n",
       "      <td>0.0</td>\n",
       "      <td>0.0</td>\n",
       "      <td>1.0</td>\n",
       "      <td>0.0</td>\n",
       "      <td>0.144928</td>\n",
       "    </tr>\n",
       "    <tr>\n",
       "      <th>8113</th>\n",
       "      <td>0.0</td>\n",
       "      <td>1.0</td>\n",
       "      <td>0.0</td>\n",
       "      <td>0.0</td>\n",
       "      <td>1.0</td>\n",
       "      <td>0.0</td>\n",
       "      <td>0.0</td>\n",
       "      <td>1.0</td>\n",
       "      <td>0.0</td>\n",
       "      <td>1.0</td>\n",
       "      <td>...</td>\n",
       "      <td>0.0</td>\n",
       "      <td>0.0</td>\n",
       "      <td>0.0</td>\n",
       "      <td>0.0</td>\n",
       "      <td>0.0</td>\n",
       "      <td>1.0</td>\n",
       "      <td>0.0</td>\n",
       "      <td>0.0</td>\n",
       "      <td>0.0</td>\n",
       "      <td>0.391304</td>\n",
       "    </tr>\n",
       "  </tbody>\n",
       "</table>\n",
       "<p>5 rows × 40 columns</p>\n",
       "</div>"
      ],
      "text/plain": [
       "       Kenya  Rwanda  Tanzania  Uganda  Rural  Urban   No  Yes  Female  Male  \\\n",
       "22796    0.0     0.0       0.0     1.0    1.0    0.0  0.0  1.0     0.0   1.0   \n",
       "15786    0.0     0.0       1.0     0.0    0.0    1.0  1.0  0.0     1.0   0.0   \n",
       "18124    0.0     0.0       1.0     0.0    1.0    0.0  1.0  0.0     0.0   1.0   \n",
       "13920    0.0     1.0       0.0     0.0    1.0    0.0  0.0  1.0     0.0   1.0   \n",
       "8113     0.0     1.0       0.0     0.0    1.0    0.0  0.0  1.0     0.0   1.0   \n",
       "\n",
       "       ...  Informally employed  No Income  Other Income  \\\n",
       "22796  ...                  0.0        0.0           0.0   \n",
       "15786  ...                  1.0        0.0           0.0   \n",
       "18124  ...                  0.0        0.0           0.0   \n",
       "13920  ...                  0.0        0.0           0.0   \n",
       "8113   ...                  0.0        0.0           0.0   \n",
       "\n",
       "       Remittance Dependent  Self employed  size 3 or below  size above 10  \\\n",
       "22796                   0.0            1.0              1.0            0.0   \n",
       "15786                   0.0            0.0              1.0            0.0   \n",
       "18124                   1.0            0.0              0.0            0.0   \n",
       "13920                   0.0            0.0              0.0            0.0   \n",
       "8113                    0.0            0.0              1.0            0.0   \n",
       "\n",
       "       size btw 4 and 6  size btw 7 and 10  age_of_respondent  \n",
       "22796               0.0                0.0           0.130435  \n",
       "15786               0.0                0.0           0.362319  \n",
       "18124               1.0                0.0           0.927536  \n",
       "13920               1.0                0.0           0.144928  \n",
       "8113                0.0                0.0           0.391304  \n",
       "\n",
       "[5 rows x 40 columns]"
      ]
     },
     "execution_count": 17,
     "metadata": {},
     "output_type": "execute_result"
    }
   ],
   "source": [
    "X_train_full.head()"
   ]
  },
  {
   "cell_type": "markdown",
   "metadata": {},
   "source": [
    "### Split Test Set"
   ]
  },
  {
   "cell_type": "code",
   "execution_count": 18,
   "metadata": {},
   "outputs": [],
   "source": [
    "# implementing same scale for test set\n",
    "X_test_numeric = X_test[['age_of_respondent']].copy()\n",
    "X_test_scaled = scaler.transform(X_test_numeric)\n",
    "X_test_num_scaled = pd.DataFrame(X_test_scaled, index= X_test_numeric.index, columns= X_test_numeric.columns)\n",
    "X_test_full = pd.concat([X_test.drop('age_of_respondent', axis= 1), X_test_num_scaled], axis= 1)"
   ]
  },
  {
   "cell_type": "markdown",
   "metadata": {},
   "source": [
    "## Modeling"
   ]
  },
  {
   "cell_type": "markdown",
   "metadata": {},
   "source": [
    "In this section, an attempt to come up with models best suited for numeric inputs. Focus will mainly be on two types of models, the Logistic Regression and the KNN models."
   ]
  },
  {
   "cell_type": "markdown",
   "metadata": {},
   "source": [
    "#### 1) Logistic Regression"
   ]
  },
  {
   "cell_type": "code",
   "execution_count": 91,
   "metadata": {},
   "outputs": [],
   "source": [
    "# instantiating logistic regression sklearn\n",
    "log_reg = LogisticRegression(fit_intercept= False, solver= 'liblinear')"
   ]
  },
  {
   "cell_type": "code",
   "execution_count": 92,
   "metadata": {},
   "outputs": [
    {
     "data": {
      "text/plain": [
       "LogisticRegression(fit_intercept=False, solver='liblinear')"
      ]
     },
     "execution_count": 92,
     "metadata": {},
     "output_type": "execute_result"
    }
   ],
   "source": [
    "# fitting on the train set\n",
    "logreg_model = log_reg.fit(X_train_full, y_train)\n",
    "logreg_model"
   ]
  },
  {
   "cell_type": "code",
   "execution_count": 93,
   "metadata": {},
   "outputs": [],
   "source": [
    "# predicting\n",
    "y_train_pred = log_reg.predict(X_train_full)\n",
    "y_test_pred = log_reg.predict(X_test_full)"
   ]
  },
  {
   "cell_type": "code",
   "execution_count": 94,
   "metadata": {},
   "outputs": [
    {
     "name": "stdout",
     "output_type": "stream",
     "text": [
      "The Mean absolute error train 0.1127\n",
      "The Mean absolute error of test 0.117\n"
     ]
    }
   ],
   "source": [
    "print('The Mean absolute error train', round(mean_absolute_error(y_train, y_train_pred), 4))\n",
    "print('The Mean absolute error of test', round(mean_absolute_error(y_test, y_test_pred), 4))"
   ]
  },
  {
   "cell_type": "code",
   "execution_count": 95,
   "metadata": {},
   "outputs": [
    {
     "name": "stdout",
     "output_type": "stream",
     "text": [
      "Train Metrics\n",
      "              precision    recall  f1-score   support\n",
      "\n",
      "           0       0.90      0.97      0.94      9989\n",
      "           1       0.71      0.37      0.48      1673\n",
      "\n",
      "    accuracy                           0.89     11662\n",
      "   macro avg       0.80      0.67      0.71     11662\n",
      "weighted avg       0.87      0.89      0.87     11662\n",
      "\n",
      "----------------------------------------------------------------------------------------------------\n"
     ]
    },
    {
     "data": {
      "image/png": "[encoded data removed]",
      "text/plain": [
       "<Figure size 432x288 with 2 Axes>"
      ]
     },
     "metadata": {
      "needs_background": "light"
     },
     "output_type": "display_data"
    }
   ],
   "source": [
    "print('Train Metrics')\n",
    "print(classification_report(y_train, y_train_pred))\n",
    "print('-'*100)\n",
    "plot_confusion_matrix(logreg_model, X_train_full, y_train, normalize= 'true');"
   ]
  },
  {
   "cell_type": "code",
   "execution_count": 96,
   "metadata": {},
   "outputs": [
    {
     "name": "stdout",
     "output_type": "stream",
     "text": [
      "Test Metrics\n",
      "              precision    recall  f1-score   support\n",
      "\n",
      "           0       0.90      0.97      0.93     10046\n",
      "           1       0.65      0.33      0.44      1616\n",
      "\n",
      "    accuracy                           0.88     11662\n",
      "   macro avg       0.78      0.65      0.69     11662\n",
      "weighted avg       0.87      0.88      0.87     11662\n",
      "\n",
      "----------------------------------------------------------------------------------------------------\n"
     ]
    },
    {
     "data": {
      "image/png": "[encoded data removed]",
      "text/plain": [
       "<Figure size 432x288 with 2 Axes>"
      ]
     },
     "metadata": {
      "needs_background": "light"
     },
     "output_type": "display_data"
    }
   ],
   "source": [
    "print('Test Metrics')\n",
    "print(classification_report(y_test, y_test_pred))\n",
    "print('-'*100)\n",
    "plot_confusion_matrix(logreg_model, X_test_full, y_test, normalize= 'true');"
   ]
  },
  {
   "cell_type": "markdown",
   "metadata": {},
   "source": [
    "The logistic model has performed well in predicting the majority class, however, it is underwhelming on the minority class. Tuning the model might help aleviate this problem. From the confusion matrix of the test data, we can see that the model is able to catch 33% of the minority class compared to 97% of the majority class. Model tuning will be performed below and see if these can be improved."
   ]
  },
  {
   "cell_type": "code",
   "execution_count": 173,
   "metadata": {},
   "outputs": [
    {
     "data": {
      "text/plain": [
       "LogisticRegression(C=0.005994842503189409, fit_intercept=False,\n",
       "                   solver='liblinear')"
      ]
     },
     "execution_count": 173,
     "metadata": {},
     "output_type": "execute_result"
    }
   ],
   "source": [
    "param = {'penalty': ['l1', 'l2'], 'C': np.logspace(-4, 4, 10)}\n",
    "grid_search = GridSearchCV(log_reg, param_grid= param, scoring= 'precision')\n",
    "grid_search.fit(X_train_full, y_train)\n",
    "grid_search.best_estimator_"
   ]
  },
  {
   "cell_type": "code",
   "execution_count": 19,
   "metadata": {},
   "outputs": [],
   "source": [
    "best_model = LogisticRegression(fit_intercept= False, C= 0.005994842503189409, solver= 'liblinear')\n",
    "best_model.fit(X_train_full, y_train)\n",
    "y_train_pred = best_model.predict(X_train_full)\n",
    "y_test_pred = best_model.predict(X_test_full)"
   ]
  },
  {
   "cell_type": "code",
   "execution_count": 20,
   "metadata": {},
   "outputs": [
    {
     "name": "stdout",
     "output_type": "stream",
     "text": [
      "The Mean absolute error on the train set is 0.1266\n",
      "The Mean absolute error on the test set is 0.1232\n"
     ]
    }
   ],
   "source": [
    "# printing mae\n",
    "print('The Mean absolute error on the train set is', round(mean_absolute_error(y_train, y_train_pred), 4))\n",
    "print('The Mean absolute error on the test set is', round(mean_absolute_error(y_test, y_test_pred), 4))"
   ]
  },
  {
   "cell_type": "code",
   "execution_count": 21,
   "metadata": {},
   "outputs": [
    {
     "name": "stdout",
     "output_type": "stream",
     "text": [
      "Train Metrics\n",
      "              precision    recall  f1-score   support\n",
      "\n",
      "           0       0.88      0.99      0.93      9989\n",
      "           1       0.80      0.16      0.26      1673\n",
      "\n",
      "    accuracy                           0.87     11662\n",
      "   macro avg       0.84      0.57      0.60     11662\n",
      "weighted avg       0.87      0.87      0.83     11662\n",
      "\n",
      "----------------------------------------------------------------------------------------------------\n"
     ]
    },
    {
     "data": {
      "image/png": "[encoded data removed]",
      "text/plain": [
       "<Figure size 432x288 with 2 Axes>"
      ]
     },
     "metadata": {
      "needs_background": "light"
     },
     "output_type": "display_data"
    }
   ],
   "source": [
    "print('Train Metrics')\n",
    "print(classification_report(y_train, y_train_pred))\n",
    "print('-'*100)\n",
    "plot_confusion_matrix(best_model, X_train_full, y_train, normalize= 'true');"
   ]
  },
  {
   "cell_type": "code",
   "execution_count": 22,
   "metadata": {},
   "outputs": [
    {
     "name": "stdout",
     "output_type": "stream",
     "text": [
      "Test Metrics\n",
      "              precision    recall  f1-score   support\n",
      "\n",
      "           0       0.88      0.99      0.93     10046\n",
      "           1       0.79      0.15      0.25      1616\n",
      "\n",
      "    accuracy                           0.88     11662\n",
      "   macro avg       0.84      0.57      0.59     11662\n",
      "weighted avg       0.87      0.88      0.84     11662\n",
      "\n",
      "----------------------------------------------------------------------------------------------------\n"
     ]
    },
    {
     "data": {
      "image/png": "[encoded data removed]",
      "text/plain": [
       "<Figure size 432x288 with 2 Axes>"
      ]
     },
     "metadata": {
      "needs_background": "light"
     },
     "output_type": "display_data"
    }
   ],
   "source": [
    "print('Test Metrics')\n",
    "print(classification_report(y_test, y_test_pred))\n",
    "print('-'*100)\n",
    "plot_confusion_matrix(best_model, X_test_full, y_test, normalize= 'true');"
   ]
  },
  {
   "cell_type": "markdown",
   "metadata": {},
   "source": [
    "Model precision was improved in the minority class, however the model performed much poorly in the prediction of the minority class compared to the base logistic regression model, with the tuned model able to correctly predict only 15% of the minority class. The model is able to catch 99% of the majority class. The model is unsatisfying therefore we try another model. The MAE of the training and test set is about the same."
   ]
  },
  {
   "cell_type": "markdown",
   "metadata": {},
   "source": [
    "#### 2) KNN Models"
   ]
  },
  {
   "cell_type": "code",
   "execution_count": 23,
   "metadata": {},
   "outputs": [],
   "source": [
    "# instantiating the model\n",
    "knn = KNeighborsClassifier()"
   ]
  },
  {
   "cell_type": "code",
   "execution_count": 24,
   "metadata": {},
   "outputs": [],
   "source": [
    "# fitting the model, generate predictions, checking accuracy score\n",
    "knn.fit(X_train_full, y_train)\n",
    "y_train_preds = knn.predict(X_train_full)\n",
    "y_test_preds = knn.predict(X_test_full)"
   ]
  },
  {
   "cell_type": "code",
   "execution_count": 25,
   "metadata": {},
   "outputs": [
    {
     "name": "stdout",
     "output_type": "stream",
     "text": [
      "The Mean absolute error on the train set is 0.096\n",
      "The Mean absolute error on the test set is 0.125\n"
     ]
    }
   ],
   "source": [
    "print('The Mean absolute error on the train set is', round(mean_absolute_error(y_train, y_train_preds), 4))\n",
    "print('The Mean absolute error on the test set is', round(mean_absolute_error(y_test, y_test_preds), 4))"
   ]
  },
  {
   "cell_type": "code",
   "execution_count": 26,
   "metadata": {},
   "outputs": [
    {
     "name": "stdout",
     "output_type": "stream",
     "text": [
      "Train Metrics\n",
      "              precision    recall  f1-score   support\n",
      "\n",
      "           0       0.92      0.98      0.95      9989\n",
      "           1       0.77      0.47      0.58      1673\n",
      "\n",
      "    accuracy                           0.90     11662\n",
      "   macro avg       0.84      0.72      0.76     11662\n",
      "weighted avg       0.90      0.90      0.89     11662\n",
      "\n",
      "----------------------------------------------------------------------------------------------------\n"
     ]
    },
    {
     "data": {
      "image/png": "[encoded data removed]",
      "text/plain": [
       "<Figure size 432x288 with 2 Axes>"
      ]
     },
     "metadata": {
      "needs_background": "light"
     },
     "output_type": "display_data"
    }
   ],
   "source": [
    "print('Train Metrics')\n",
    "print(classification_report(y_train, y_train_preds))\n",
    "print('-'*100)\n",
    "plot_confusion_matrix(knn, X_train_full, y_train, normalize= 'true');"
   ]
  },
  {
   "cell_type": "code",
   "execution_count": 27,
   "metadata": {},
   "outputs": [
    {
     "name": "stdout",
     "output_type": "stream",
     "text": [
      "Test Metrics\n",
      "              precision    recall  f1-score   support\n",
      "\n",
      "           0       0.90      0.96      0.93     10046\n",
      "           1       0.58      0.34      0.43      1616\n",
      "\n",
      "    accuracy                           0.87     11662\n",
      "   macro avg       0.74      0.65      0.68     11662\n",
      "weighted avg       0.86      0.87      0.86     11662\n",
      "\n",
      "----------------------------------------------------------------------------------------------------\n"
     ]
    },
    {
     "data": {
      "image/png": "[encoded data removed]",
      "text/plain": [
       "<Figure size 432x288 with 2 Axes>"
      ]
     },
     "metadata": {
      "needs_background": "light"
     },
     "output_type": "display_data"
    }
   ],
   "source": [
    "print('Test Metrics')\n",
    "print(classification_report(y_test, y_test_preds))\n",
    "print('-'*100)\n",
    "plot_confusion_matrix(knn, X_test_full, y_test, normalize= 'true');"
   ]
  },
  {
   "cell_type": "markdown",
   "metadata": {},
   "source": [
    "The base KNN model performs just about the same as the Logistic regression base model. The model is able to predict about 34% of the minority class. With a slight drop of 3% to 96% from the Logistic regression model in the majority class. Tuning the model model might help to improve precision on the minority class. The MAE has increased from the base Logistic regression model with about .01."
   ]
  },
  {
   "cell_type": "code",
   "execution_count": 88,
   "metadata": {},
   "outputs": [],
   "source": [
    "# https://towardsdatascience.com/regularization-in-deep-learning-l1-l2-and-dropout-377e75acc036\n",
    "# https://towardsdatascience.com/beginners-guide-to-xgboost-for-classification-problems-50f75aac5390\n",
    "# https://towardsdatascience.com/combine-two-string-columns-pandas-fde0287485d9\n",
    "# https://learn.microsoft.com/en-us/training/challenges?id=e1b3cb45-d3ae-48e9-9271-b2fa82334c25\n",
    "# https://learn.microsoft.com/en-us/users/cloudskillschallenge/collections/gm3rbnwzx1p?WT.mc_id=cloudskillschallenge_0a4dbaeb-819a-4ab2-91c4-33610096adc9\n",
    "# https://towardsdatascience.com/two-is-better-than-one-ensembling-models-611ee4fa9bd8"
   ]
  },
  {
   "cell_type": "code",
   "execution_count": 30,
   "metadata": {},
   "outputs": [
    {
     "data": {
      "text/plain": [
       "KNeighborsClassifier(algorithm='kd_tree', n_neighbors=10)"
      ]
     },
     "execution_count": 30,
     "metadata": {},
     "output_type": "execute_result"
    }
   ],
   "source": [
    "params = {'n_neighbors': [x for x in range(5, 11)], 'weights': ['uniform', 'distance'],\n",
    "          'algorithm': ['ball_tree', 'kd_tree', 'brute']}\n",
    "grid_search = GridSearchCV(knn, param_grid= params, scoring= 'precision')\n",
    "grid_search.fit(X_train_full, y_train)\n",
    "grid_search.best_estimator_"
   ]
  },
  {
   "cell_type": "code",
   "execution_count": 28,
   "metadata": {},
   "outputs": [],
   "source": [
    "best_knn = KNeighborsClassifier(algorithm= 'kd_tree', n_neighbors= 10)\n",
    "best_knn.fit(X_train_full, y_train)\n",
    "y_train_preds = best_knn.predict(X_train_full)\n",
    "y_test_preds = best_knn.predict(X_test_full)"
   ]
  },
  {
   "cell_type": "code",
   "execution_count": 29,
   "metadata": {},
   "outputs": [
    {
     "name": "stdout",
     "output_type": "stream",
     "text": [
      "The Mean absolute error on the test set is 0.109\n",
      "The Mean absolute error on the test set is 0.1179\n"
     ]
    }
   ],
   "source": [
    "print('The Mean absolute error on the test set is', round(mean_absolute_error(y_train, y_train_preds), 4))\n",
    "print('The Mean absolute error on the test set is', round(mean_absolute_error(y_test, y_test_preds), 4))"
   ]
  },
  {
   "cell_type": "code",
   "execution_count": 30,
   "metadata": {},
   "outputs": [
    {
     "name": "stdout",
     "output_type": "stream",
     "text": [
      "Train Metrics\n",
      "              precision    recall  f1-score   support\n",
      "\n",
      "           0       0.90      0.99      0.94      9989\n",
      "           1       0.79      0.33      0.46      1673\n",
      "\n",
      "    accuracy                           0.89     11662\n",
      "   macro avg       0.84      0.66      0.70     11662\n",
      "weighted avg       0.88      0.89      0.87     11662\n",
      "\n",
      "----------------------------------------------------------------------------------------------------\n"
     ]
    },
    {
     "data": {
      "image/png": "[encoded data removed]",
      "text/plain": [
       "<Figure size 432x288 with 2 Axes>"
      ]
     },
     "metadata": {
      "needs_background": "light"
     },
     "output_type": "display_data"
    }
   ],
   "source": [
    "print('Train Metrics')\n",
    "print(classification_report(y_train, y_train_preds))\n",
    "print('-'*100)\n",
    "plot_confusion_matrix(best_knn, X_train_full, y_train, normalize= 'true');"
   ]
  },
  {
   "cell_type": "code",
   "execution_count": 31,
   "metadata": {},
   "outputs": [
    {
     "name": "stdout",
     "output_type": "stream",
     "text": [
      "Test Metrics\n",
      "              precision    recall  f1-score   support\n",
      "\n",
      "           0       0.89      0.98      0.93     10046\n",
      "           1       0.68      0.28      0.40      1616\n",
      "\n",
      "    accuracy                           0.88     11662\n",
      "   macro avg       0.79      0.63      0.66     11662\n",
      "weighted avg       0.86      0.88      0.86     11662\n",
      "\n",
      "----------------------------------------------------------------------------------------------------\n"
     ]
    },
    {
     "data": {
      "image/png": "[encoded data removed]",
      "text/plain": [
       "<Figure size 432x288 with 2 Axes>"
      ]
     },
     "metadata": {
      "needs_background": "light"
     },
     "output_type": "display_data"
    }
   ],
   "source": [
    "print('Test Metrics')\n",
    "print(classification_report(y_test, y_test_preds))\n",
    "print('-'*100)\n",
    "plot_confusion_matrix(best_knn, X_test_full, y_test, normalize= 'true');"
   ]
  },
  {
   "cell_type": "markdown",
   "metadata": {},
   "source": [
    "The KNN model is not performing that well even with tuning. Most of the models have been biased towards the majority class. Going forward we will look to improve model performance on the minority class. With Significant model differentiation of the two classes."
   ]
  },
  {
   "cell_type": "markdown",
   "metadata": {},
   "source": [
    "#### 3) Decision tree"
   ]
  },
  {
   "cell_type": "code",
   "execution_count": 32,
   "metadata": {},
   "outputs": [],
   "source": [
    "# instantiate the DecisionTreeClassifier\n",
    "dtc = DecisionTreeClassifier(criterion= 'entropy')"
   ]
  },
  {
   "cell_type": "code",
   "execution_count": 33,
   "metadata": {},
   "outputs": [
    {
     "data": {
      "text/plain": [
       "DecisionTreeClassifier(criterion='entropy')"
      ]
     },
     "execution_count": 33,
     "metadata": {},
     "output_type": "execute_result"
    }
   ],
   "source": [
    "# fitting the model\n",
    "dtc.fit(X_train_full, y_train)"
   ]
  },
  {
   "cell_type": "code",
   "execution_count": 94,
   "metadata": {},
   "outputs": [],
   "source": [
    "# fig, ax = plt.subplots(nrows= 1, ncols= 1, figsize= (8, 5), dpi= 300)\n",
    "# tree.plot_tree(dtc,\n",
    "#           feature_names= X_train_full.columns,\n",
    "#           class_names= np.unique(y).astype('str'),\n",
    "#           filled= True)\n",
    "# plt.show()"
   ]
  },
  {
   "cell_type": "code",
   "execution_count": 34,
   "metadata": {},
   "outputs": [],
   "source": [
    "# predicting on train and test\n",
    "y_train_preds = dtc.predict(X_train_full)\n",
    "y_test_preds = dtc.predict(X_test_full)"
   ]
  },
  {
   "cell_type": "code",
   "execution_count": 35,
   "metadata": {},
   "outputs": [
    {
     "name": "stdout",
     "output_type": "stream",
     "text": [
      "The Mean absolute error on the test set is 0.0247\n",
      "The Mean absolute error on the test set is 0.1595\n"
     ]
    }
   ],
   "source": [
    "# printing accuracy scores\n",
    "print('The Mean absolute error on the test set is', round(mean_absolute_error(y_train, y_train_preds), 4))\n",
    "print('The Mean absolute error on the test set is', round(mean_absolute_error(y_test, y_test_preds), 4))"
   ]
  },
  {
   "cell_type": "code",
   "execution_count": 36,
   "metadata": {},
   "outputs": [
    {
     "name": "stdout",
     "output_type": "stream",
     "text": [
      "Train Metrics\n",
      "              precision    recall  f1-score   support\n",
      "\n",
      "           0       0.97      1.00      0.99      9989\n",
      "           1       0.99      0.84      0.91      1673\n",
      "\n",
      "    accuracy                           0.98     11662\n",
      "   macro avg       0.98      0.92      0.95     11662\n",
      "weighted avg       0.98      0.98      0.97     11662\n",
      "\n",
      "----------------------------------------------------------------------------------------------------\n"
     ]
    },
    {
     "data": {
      "image/png": "[encoded data removed]",
      "text/plain": [
       "<Figure size 432x288 with 2 Axes>"
      ]
     },
     "metadata": {
      "needs_background": "light"
     },
     "output_type": "display_data"
    }
   ],
   "source": [
    "print('Train Metrics')\n",
    "print(classification_report(y_train, y_train_preds))\n",
    "print('-'*100)\n",
    "plot_confusion_matrix(dtc, X_train_full, y_train, normalize= 'true');"
   ]
  },
  {
   "cell_type": "code",
   "execution_count": 37,
   "metadata": {},
   "outputs": [
    {
     "name": "stdout",
     "output_type": "stream",
     "text": [
      "Test Metrics\n",
      "              precision    recall  f1-score   support\n",
      "\n",
      "           0       0.90      0.91      0.91     10046\n",
      "           1       0.42      0.39      0.40      1616\n",
      "\n",
      "    accuracy                           0.84     11662\n",
      "   macro avg       0.66      0.65      0.66     11662\n",
      "weighted avg       0.84      0.84      0.84     11662\n",
      "\n",
      "----------------------------------------------------------------------------------------------------\n"
     ]
    },
    {
     "data": {
      "image/png": "[encoded data removed]",
      "text/plain": [
       "<Figure size 432x288 with 2 Axes>"
      ]
     },
     "metadata": {
      "needs_background": "light"
     },
     "output_type": "display_data"
    }
   ],
   "source": [
    "print('Test Metrics')\n",
    "print(classification_report(y_test, y_test_preds))\n",
    "print('-'*100)\n",
    "plot_confusion_matrix(dtc, X_test_full, y_test, normalize= 'true');"
   ]
  },
  {
   "cell_type": "markdown",
   "metadata": {},
   "source": [
    "The model was promising in the training set but the performance on the test set was bad which suggest the model is overfitting on the train set. The MAE increased by .04 from the KNN model. Tuning the model might help."
   ]
  },
  {
   "cell_type": "code",
   "execution_count": 41,
   "metadata": {},
   "outputs": [
    {
     "data": {
      "text/plain": [
       "DecisionTreeClassifier(max_depth=4, max_leaf_nodes=10, min_samples_leaf=2)"
      ]
     },
     "execution_count": 41,
     "metadata": {},
     "output_type": "execute_result"
    }
   ],
   "source": [
    "# tuning\n",
    "params = {'criterion': ['gini', 'entropy'], 'min_samples_split': [x for x in range(2, 11)], \n",
    "          'max_depth': [x for x in range(2, 11)], 'min_samples_leaf': [x for x in range(2, 5)], \n",
    "          'max_leaf_nodes': [x for x in range(2, 11)]}\n",
    "# params = {'criterion': ['gini', 'entropy']}\n",
    "grid_search = GridSearchCV(dtc, param_grid= params, scoring= 'precision')\n",
    "grid_search.fit(X_train_full, y_train)\n",
    "grid_search.best_estimator_"
   ]
  },
  {
   "cell_type": "code",
   "execution_count": 42,
   "metadata": {},
   "outputs": [
    {
     "name": "stdout",
     "output_type": "stream",
     "text": [
      "The Mean absolute error on the train set is 0.121\n",
      "The Mean absolute error on the test set is 0.1205\n"
     ]
    }
   ],
   "source": [
    "# fitting best model\n",
    "best_dtc = DecisionTreeClassifier(max_depth=4, max_leaf_nodes= 10, min_samples_leaf=2)\n",
    "best_dtc.fit(X_train_full, y_train)\n",
    "# predict\n",
    "y_train_preds = best_dtc.predict(X_train_full)\n",
    "y_test_preds = best_dtc.predict(X_test_full)\n",
    "# printing mae scores\n",
    "print('The Mean absolute error on the train set is', round(mean_absolute_error(y_train, y_train_preds), 4))\n",
    "print('The Mean absolute error on the test set is', round(mean_absolute_error(y_test, y_test_preds), 4))"
   ]
  },
  {
   "cell_type": "code",
   "execution_count": 43,
   "metadata": {},
   "outputs": [
    {
     "name": "stdout",
     "output_type": "stream",
     "text": [
      "Train Metrics\n",
      "              precision    recall  f1-score   support\n",
      "\n",
      "           0       0.89      0.99      0.93      9989\n",
      "           1       0.74      0.24      0.37      1673\n",
      "\n",
      "    accuracy                           0.88     11662\n",
      "   macro avg       0.81      0.61      0.65     11662\n",
      "weighted avg       0.86      0.88      0.85     11662\n",
      "\n",
      "----------------------------------------------------------------------------------------------------\n"
     ]
    },
    {
     "data": {
      "image/png": "[encoded data removed]",
      "text/plain": [
       "<Figure size 432x288 with 2 Axes>"
      ]
     },
     "metadata": {
      "needs_background": "light"
     },
     "output_type": "display_data"
    }
   ],
   "source": [
    "print('Train Metrics')\n",
    "print(classification_report(y_train, y_train_preds))\n",
    "print('-'*100)\n",
    "plot_confusion_matrix(best_dtc, X_train_full, y_train, normalize= 'true');"
   ]
  },
  {
   "cell_type": "code",
   "execution_count": 44,
   "metadata": {},
   "outputs": [
    {
     "name": "stdout",
     "output_type": "stream",
     "text": [
      "Test Metrics\n",
      "              precision    recall  f1-score   support\n",
      "\n",
      "           0       0.89      0.98      0.93     10046\n",
      "           1       0.70      0.23      0.34      1616\n",
      "\n",
      "    accuracy                           0.88     11662\n",
      "   macro avg       0.80      0.61      0.64     11662\n",
      "weighted avg       0.86      0.88      0.85     11662\n",
      "\n",
      "----------------------------------------------------------------------------------------------------\n"
     ]
    },
    {
     "data": {
      "image/png": "[encoded data removed]",
      "text/plain": [
       "<Figure size 432x288 with 2 Axes>"
      ]
     },
     "metadata": {
      "needs_background": "light"
     },
     "output_type": "display_data"
    }
   ],
   "source": [
    "print('Test Metrics')\n",
    "print(classification_report(y_test, y_test_preds))\n",
    "print('-'*100)\n",
    "plot_confusion_matrix(best_dtc, X_test_full, y_test, normalize= 'true');"
   ]
  },
  {
   "cell_type": "markdown",
   "metadata": {},
   "source": [
    "Tuning the model has made its performance on the training and the test set has made it worse. The tuned model is able to predict 23% in the minority class while predicting 98% in the majority class. The MAE of the model both on the train and test set is relatively the same."
   ]
  },
  {
   "cell_type": "markdown",
   "metadata": {},
   "source": [
    "#### 4) Xgboost classifier"
   ]
  },
  {
   "cell_type": "code",
   "execution_count": 45,
   "metadata": {},
   "outputs": [],
   "source": [
    "# instantiate classifier\n",
    "xgb_classifier = xgb.XGBClassifier()\n",
    "# fitting\n",
    "xgb_classifier.fit(X_train_full, y_train)\n",
    "# predicting on train and test set\n",
    "y_train_preds = xgb_classifier.predict(X_train_full)\n",
    "y_test_preds = xgb_classifier.predict(X_test_full)"
   ]
  },
  {
   "cell_type": "code",
   "execution_count": 46,
   "metadata": {},
   "outputs": [
    {
     "name": "stdout",
     "output_type": "stream",
     "text": [
      "The Mean absolute error on the test set is 0.078\n",
      "The Mean absolute error on the test set is 0.1187\n"
     ]
    }
   ],
   "source": [
    "# printing mae score\n",
    "print('The Mean absolute error on the test set is', round(mean_absolute_error(y_train, y_train_preds), 4))\n",
    "print('The Mean absolute error on the test set is', round(mean_absolute_error(y_test, y_test_preds), 4))"
   ]
  },
  {
   "cell_type": "code",
   "execution_count": 47,
   "metadata": {},
   "outputs": [
    {
     "name": "stdout",
     "output_type": "stream",
     "text": [
      "Train Metrics\n",
      "              precision    recall  f1-score   support\n",
      "\n",
      "           0       0.93      0.99      0.96      9989\n",
      "           1       0.86      0.55      0.67      1673\n",
      "\n",
      "    accuracy                           0.92     11662\n",
      "   macro avg       0.89      0.77      0.81     11662\n",
      "weighted avg       0.92      0.92      0.91     11662\n",
      "\n",
      "----------------------------------------------------------------------------------------------------\n"
     ]
    },
    {
     "data": {
      "image/png": "[encoded data removed]",
      "text/plain": [
       "<Figure size 432x288 with 2 Axes>"
      ]
     },
     "metadata": {
      "needs_background": "light"
     },
     "output_type": "display_data"
    }
   ],
   "source": [
    "print('Train Metrics')\n",
    "print(classification_report(y_train, y_train_preds))\n",
    "print('-'*100)\n",
    "plot_confusion_matrix(xgb_classifier, X_train_full, y_train, normalize= 'true');"
   ]
  },
  {
   "cell_type": "code",
   "execution_count": 48,
   "metadata": {},
   "outputs": [
    {
     "name": "stdout",
     "output_type": "stream",
     "text": [
      "Test Metrics\n",
      "              precision    recall  f1-score   support\n",
      "\n",
      "           0       0.91      0.96      0.93     10046\n",
      "           1       0.62      0.37      0.47      1616\n",
      "\n",
      "    accuracy                           0.88     11662\n",
      "   macro avg       0.76      0.67      0.70     11662\n",
      "weighted avg       0.87      0.88      0.87     11662\n",
      "\n",
      "----------------------------------------------------------------------------------------------------\n"
     ]
    },
    {
     "data": {
      "image/png": "[encoded data removed]",
      "text/plain": [
       "<Figure size 432x288 with 2 Axes>"
      ]
     },
     "metadata": {
      "needs_background": "light"
     },
     "output_type": "display_data"
    }
   ],
   "source": [
    "print('Test Metrics')\n",
    "print(classification_report(y_test, y_test_preds))\n",
    "print('-'*100)\n",
    "plot_confusion_matrix(xgb_classifier, X_test_full, y_test, normalize= 'true');"
   ]
  },
  {
   "cell_type": "markdown",
   "metadata": {},
   "source": [
    "The Xgboost Classifier performed fairly on predicting the minority class, catching about 55% of the minority class in the train set. However, performance dropped significantly on the test set with the model predicting about 37% of the minority class in the test set."
   ]
  },
  {
   "cell_type": "code",
   "execution_count": 101,
   "metadata": {},
   "outputs": [],
   "source": [
    "# params = {'learning_rate': list(np.linspace(.01, .25, num= 5)),\n",
    "#           'max_depth': [x for x in range(1, 6)],\n",
    "#           'subsample': list(np.linspace(.5, .9, num= 5)),\n",
    "#           'colsample_bytree': list(np.linspace(.5, .9, num= 5))}\n",
    "# grid_search = GridSearchCV(xgb_classifier, param_grid= params)\n",
    "# grid_search.fit(X_train_full, y_train)\n",
    "# grid_search.best_estimator_"
   ]
  },
  {
   "cell_type": "markdown",
   "metadata": {},
   "source": [
    "Grid Search was taking longer than expected. Tuning the xgboost model could be revisited later. With the initial model having a MAE of about 0.1187 with precision of about 96%(majority class) and 37%(Minority class)."
   ]
  },
  {
   "cell_type": "markdown",
   "metadata": {},
   "source": [
    "#### 5) Random Forest"
   ]
  },
  {
   "cell_type": "code",
   "execution_count": 49,
   "metadata": {},
   "outputs": [],
   "source": [
    "# instantiate\n",
    "rfc = RandomForestClassifier()\n",
    "# fitting\n",
    "rfc.fit(X_train_full, y_train)\n",
    "# predicting on train and test\n",
    "y_train_preds = rfc.predict(X_train_full)\n",
    "y_test_preds = rfc.predict(X_test_full)"
   ]
  },
  {
   "cell_type": "code",
   "execution_count": 50,
   "metadata": {},
   "outputs": [
    {
     "name": "stdout",
     "output_type": "stream",
     "text": [
      "The Mean absolute error on the test set is 0.0247\n",
      "The Mean absolute error on the test set is 0.1383\n"
     ]
    }
   ],
   "source": [
    "# printing mae score\n",
    "print('The Mean absolute error on the test set is', round(mean_absolute_error(y_train, y_train_preds), 4))\n",
    "print('The Mean absolute error on the test set is', round(mean_absolute_error(y_test, y_test_preds), 4))"
   ]
  },
  {
   "cell_type": "code",
   "execution_count": 51,
   "metadata": {},
   "outputs": [
    {
     "name": "stdout",
     "output_type": "stream",
     "text": [
      "Train Metrics\n",
      "              precision    recall  f1-score   support\n",
      "\n",
      "           0       0.98      0.99      0.99      9989\n",
      "           1       0.96      0.86      0.91      1673\n",
      "\n",
      "    accuracy                           0.98     11662\n",
      "   macro avg       0.97      0.93      0.95     11662\n",
      "weighted avg       0.98      0.98      0.97     11662\n",
      "\n",
      "----------------------------------------------------------------------------------------------------\n"
     ]
    },
    {
     "data": {
      "image/png": "[encoded data removed]",
      "text/plain": [
       "<Figure size 432x288 with 2 Axes>"
      ]
     },
     "metadata": {
      "needs_background": "light"
     },
     "output_type": "display_data"
    }
   ],
   "source": [
    "print('Train Metrics')\n",
    "print(classification_report(y_train, y_train_preds))\n",
    "print('-'*100)\n",
    "plot_confusion_matrix(rfc, X_test_full, y_test, normalize= 'true');"
   ]
  },
  {
   "cell_type": "code",
   "execution_count": 52,
   "metadata": {},
   "outputs": [
    {
     "name": "stdout",
     "output_type": "stream",
     "text": [
      "Test Metrics\n",
      "              precision    recall  f1-score   support\n",
      "\n",
      "           0       0.90      0.94      0.92     10046\n",
      "           1       0.50      0.38      0.43      1616\n",
      "\n",
      "    accuracy                           0.86     11662\n",
      "   macro avg       0.70      0.66      0.68     11662\n",
      "weighted avg       0.85      0.86      0.85     11662\n",
      "\n",
      "----------------------------------------------------------------------------------------------------\n"
     ]
    },
    {
     "data": {
      "image/png": "[encoded data removed]",
      "text/plain": [
       "<Figure size 432x288 with 2 Axes>"
      ]
     },
     "metadata": {
      "needs_background": "light"
     },
     "output_type": "display_data"
    }
   ],
   "source": [
    "print('Test Metrics')\n",
    "print(classification_report(y_test, y_test_preds))\n",
    "print('-'*100)\n",
    "plot_confusion_matrix(rfc, X_test_full, y_test, normalize= 'true');"
   ]
  },
  {
   "cell_type": "markdown",
   "metadata": {},
   "source": [
    "Just as the previous models, the results are a little underwhelming. The model is able to predict about 38% of the minority class and 94% of the majority class. The next logical step is to tune the model and see if these values can be improved, especially in the minority class."
   ]
  },
  {
   "cell_type": "code",
   "execution_count": 82,
   "metadata": {},
   "outputs": [
    {
     "data": {
      "text/plain": [
       "RandomForestClassifier(criterion='entropy', max_depth=10, max_features='log2',\n",
       "                       min_samples_split=0.1)"
      ]
     },
     "execution_count": 82,
     "metadata": {},
     "output_type": "execute_result"
    }
   ],
   "source": [
    "# tuning the rfc\n",
    "params = {'criterion': ['gini', 'entropy', 'log_loss'],\n",
    "          'max_depth': [x for x in range(5, 11)],\n",
    "          'min_samples_split': list(np.linspace(.1, 1, 5)),\n",
    "          'max_features': ['sqrt', 'log2', None]}\n",
    "grid_search = GridSearchCV(rfc, param_grid= params, scoring= 'precision')\n",
    "grid_search.fit(X_train_full, y_train)\n",
    "grid_search.best_estimator_"
   ]
  },
  {
   "cell_type": "code",
   "execution_count": 53,
   "metadata": {},
   "outputs": [
    {
     "name": "stdout",
     "output_type": "stream",
     "text": [
      "The Mean absolute error on the train set is 0.1369\n",
      "The Mean absolute error on the test set is 0.1321\n"
     ]
    }
   ],
   "source": [
    "# fitting best model\n",
    "best_rfc = RandomForestClassifier(criterion= 'entropy',\n",
    "                                  max_depth= 10, max_features= 'log2',\n",
    "                                  min_samples_split= 0.1)\n",
    "best_rfc.fit(X_train_full, y_train)\n",
    "# predict\n",
    "y_train_preds = best_rfc.predict(X_train_full)\n",
    "y_test_preds = best_rfc.predict(X_test_full)\n",
    "# printing mae scores\n",
    "print('The Mean absolute error on the train set is', round(mean_absolute_error(y_train, y_train_preds), 4))\n",
    "print('The Mean absolute error on the test set is', round(mean_absolute_error(y_test, y_test_preds), 4))"
   ]
  },
  {
   "cell_type": "code",
   "execution_count": 54,
   "metadata": {},
   "outputs": [
    {
     "name": "stdout",
     "output_type": "stream",
     "text": [
      "Train Metrics\n",
      "              precision    recall  f1-score   support\n",
      "\n",
      "           0       0.86      1.00      0.93      9989\n",
      "           1       0.90      0.05      0.10      1673\n",
      "\n",
      "    accuracy                           0.86     11662\n",
      "   macro avg       0.88      0.53      0.51     11662\n",
      "weighted avg       0.87      0.86      0.81     11662\n",
      "\n",
      "----------------------------------------------------------------------------------------------------\n"
     ]
    },
    {
     "data": {
      "image/png": "[encoded data removed]",
      "text/plain": [
       "<Figure size 432x288 with 2 Axes>"
      ]
     },
     "metadata": {
      "needs_background": "light"
     },
     "output_type": "display_data"
    }
   ],
   "source": [
    "print('Train Metrics')\n",
    "print(classification_report(y_train, y_train_preds))\n",
    "print('-'*100)\n",
    "plot_confusion_matrix(best_rfc, X_train_full, y_train, normalize= 'true');"
   ]
  },
  {
   "cell_type": "code",
   "execution_count": 55,
   "metadata": {},
   "outputs": [
    {
     "name": "stdout",
     "output_type": "stream",
     "text": [
      "Test Metrics\n",
      "              precision    recall  f1-score   support\n",
      "\n",
      "           0       0.87      1.00      0.93     10046\n",
      "           1       0.87      0.06      0.10      1616\n",
      "\n",
      "    accuracy                           0.87     11662\n",
      "   macro avg       0.87      0.53      0.52     11662\n",
      "weighted avg       0.87      0.87      0.81     11662\n",
      "\n",
      "----------------------------------------------------------------------------------------------------\n"
     ]
    },
    {
     "data": {
      "image/png": "[encoded data removed]",
      "text/plain": [
       "<Figure size 432x288 with 2 Axes>"
      ]
     },
     "metadata": {
      "needs_background": "light"
     },
     "output_type": "display_data"
    }
   ],
   "source": [
    "print('Test Metrics')\n",
    "print(classification_report(y_test, y_test_preds))\n",
    "print('-'*100)\n",
    "plot_confusion_matrix(best_rfc, X_test_full, y_test, normalize= 'true');"
   ]
  },
  {
   "cell_type": "markdown",
   "metadata": {},
   "source": [
    "The model is extreemly biased towards the majority class. It goes withought saying that this is not an appropriate model for this dataset. All models above have an impressive accuracy with the lowest recorded accuracy being 84%."
   ]
  },
  {
   "cell_type": "markdown",
   "metadata": {},
   "source": [
    "### Addressing Class Imbalance"
   ]
  },
  {
   "cell_type": "code",
   "execution_count": null,
   "metadata": {},
   "outputs": [],
   "source": [
    "# https://www.analyticsvidhya.com/blog/2020/07/10-techniques-to-deal-with-class-imbalance-in-machine-learning/\n",
    "# https://machinelearningmastery.com/smote-oversampling-for-imbalanced-classification/"
   ]
  },
  {
   "cell_type": "markdown",
   "metadata": {},
   "source": [
    "#### 1. SMOTE"
   ]
  },
  {
   "cell_type": "markdown",
   "metadata": {},
   "source": [
    "Trying to resample the classes above to see if the model precision on the minority class can be improved further."
   ]
  },
  {
   "cell_type": "code",
   "execution_count": 56,
   "metadata": {},
   "outputs": [],
   "source": [
    "smote = imblearn.over_sampling.SMOTE()"
   ]
  },
  {
   "cell_type": "code",
   "execution_count": 57,
   "metadata": {},
   "outputs": [
    {
     "data": {
      "text/plain": [
       "0    9989\n",
       "1    1673\n",
       "Name: bank_account, dtype: int64"
      ]
     },
     "execution_count": 57,
     "metadata": {},
     "output_type": "execute_result"
    }
   ],
   "source": [
    "# checking class distribution\n",
    "y_train.value_counts()"
   ]
  },
  {
   "cell_type": "code",
   "execution_count": 58,
   "metadata": {},
   "outputs": [
    {
     "name": "stdout",
     "output_type": "stream",
     "text": [
      "X train resampled shape is (19978, 40)\n",
      "----------------------------------------------------------------------------------------------------\n",
      "y train value counts are\n",
      " 0    9989\n",
      "1    9989\n",
      "Name: bank_account, dtype: int64\n"
     ]
    }
   ],
   "source": [
    "X_train_resampled, y_train_resampled = smote.fit_resample(X_train_full, y_train)\n",
    "print('X train resampled shape is', X_train_resampled.shape)\n",
    "print('-'*100)\n",
    "print('y train value counts are\\n', y_train_resampled.value_counts())"
   ]
  },
  {
   "cell_type": "code",
   "execution_count": 59,
   "metadata": {},
   "outputs": [],
   "source": [
    "def metrics(model, X, y, y_pred):\n",
    "    print(classification_report(y, y_pred))\n",
    "    print('-'*100)\n",
    "    plot_confusion_matrix(model, X, y, normalize= 'true');"
   ]
  },
  {
   "cell_type": "code",
   "execution_count": 60,
   "metadata": {},
   "outputs": [],
   "source": [
    "def model(model, X_train, y_train, X_test, y_test, param):\n",
    "    \"\"\"This function takes in a model, x and y variables then \n",
    "    fits the model on the variables, optimizes through grid search\n",
    "    then returns the model accuracy on the test data.\"\"\"\n",
    "    \n",
    "    grid_search = GridSearchCV(model, param_grid= param, scoring= 'precision')\n",
    "    grid_search.fit(X_train, y_train)\n",
    "    model = grid_search.best_estimator_\n",
    "    model.fit(X_test, y_test)\n",
    "    y_train_pred = model.predict(X_train)\n",
    "    y_test_pred = model.predict(X_test)\n",
    "    \n",
    "    print('The best model is', model)\n",
    "    print('-'*100)\n",
    "    print('Train Metrics')\n",
    "    print('Train MAE', round(mean_absolute_error(y_train, y_train_pred), 4))\n",
    "    print('-'*100)\n",
    "    metrics(model, X_train, y_train, y_train_pred)\n",
    "    print('Test Metrics')\n",
    "    print('Test MAE', round(mean_absolute_error(y_test, y_test_pred), 4))\n",
    "    metrics(model, X_test, y_test, y_test_pred)"
   ]
  },
  {
   "cell_type": "markdown",
   "metadata": {},
   "source": [
    "##### a) Logistic Model with SMOTE"
   ]
  },
  {
   "cell_type": "code",
   "execution_count": 50,
   "metadata": {},
   "outputs": [
    {
     "name": "stdout",
     "output_type": "stream",
     "text": [
      "The best model is LogisticRegression(C=0.046415888336127774, fit_intercept=False,\n",
      "                   solver='liblinear')\n",
      "----------------------------------------------------------------------------------------------------\n",
      "Train Metrics\n",
      "Train MAE 0.3559\n",
      "----------------------------------------------------------------------------------------------------\n",
      "              precision    recall  f1-score   support\n",
      "\n",
      "           0       0.59      0.98      0.73      9989\n",
      "           1       0.94      0.31      0.46      9989\n",
      "\n",
      "    accuracy                           0.64     19978\n",
      "   macro avg       0.76      0.64      0.60     19978\n",
      "weighted avg       0.76      0.64      0.60     19978\n",
      "\n",
      "----------------------------------------------------------------------------------------------------\n",
      "Test Metrics\n",
      "Test MAE 0.1146\n",
      "              precision    recall  f1-score   support\n",
      "\n",
      "           0       0.90      0.98      0.94     10046\n",
      "           1       0.72      0.28      0.41      1616\n",
      "\n",
      "    accuracy                           0.89     11662\n",
      "   macro avg       0.81      0.63      0.67     11662\n",
      "weighted avg       0.87      0.89      0.86     11662\n",
      "\n",
      "----------------------------------------------------------------------------------------------------\n"
     ]
    },
    {
     "data": {
      "image/png": "[encoded data removed]",
      "text/plain": [
       "<Figure size 432x288 with 2 Axes>"
      ]
     },
     "metadata": {
      "needs_background": "light"
     },
     "output_type": "display_data"
    },
    {
     "data": {
      "image/png": "[encoded data removed]",
      "text/plain": [
       "<Figure size 432x288 with 2 Axes>"
      ]
     },
     "metadata": {
      "needs_background": "light"
     },
     "output_type": "display_data"
    }
   ],
   "source": [
    "log_model = LogisticRegression(fit_intercept= False, solver= 'liblinear')\n",
    "param = {'penalty': ['l1', 'l2'], 'C': np.logspace(-4, 4, 10)}\n",
    "model(log_model, X_train_resampled, y_train_resampled, X_test_full, y_test, param)"
   ]
  },
  {
   "cell_type": "markdown",
   "metadata": {},
   "source": [
    "Even with oversampling, there isn't a significant improvement in model performance. The Logistic Regression model is still heavily biased towards the majority class. The model is able to correctly predict 28% of the minority class. With MAE on the test set being 0.1146."
   ]
  },
  {
   "cell_type": "markdown",
   "metadata": {},
   "source": [
    "##### b) KNN Model with SMOTE"
   ]
  },
  {
   "cell_type": "code",
   "execution_count": 60,
   "metadata": {
    "scrolled": false
   },
   "outputs": [
    {
     "name": "stdout",
     "output_type": "stream",
     "text": [
      "The best model is KNeighborsClassifier(algorithm='ball_tree', weights='distance')\n",
      "----------------------------------------------------------------------------------------------------\n",
      "Train Metrics\n",
      "Train MAE 0.3376\n",
      "----------------------------------------------------------------------------------------------------\n",
      "              precision    recall  f1-score   support\n",
      "\n",
      "           0       0.60      0.94      0.74      9989\n",
      "           1       0.87      0.38      0.53      9989\n",
      "\n",
      "    accuracy                           0.66     19978\n",
      "   macro avg       0.74      0.66      0.63     19978\n",
      "weighted avg       0.74      0.66      0.63     19978\n",
      "\n",
      "----------------------------------------------------------------------------------------------------\n",
      "Test Metrics\n",
      "Test MAE 0.0239\n",
      "              precision    recall  f1-score   support\n",
      "\n",
      "           0       0.97      1.00      0.99     10046\n",
      "           1       0.99      0.83      0.91      1616\n",
      "\n",
      "    accuracy                           0.98     11662\n",
      "   macro avg       0.98      0.92      0.95     11662\n",
      "weighted avg       0.98      0.98      0.98     11662\n",
      "\n",
      "----------------------------------------------------------------------------------------------------\n"
     ]
    },
    {
     "data": {
      "image/png": "[encoded data removed]",
      "text/plain": [
       "<Figure size 432x288 with 2 Axes>"
      ]
     },
     "metadata": {
      "needs_background": "light"
     },
     "output_type": "display_data"
    },
    {
     "data": {
      "image/png": "[encoded data removed]",
      "text/plain": [
       "<Figure size 432x288 with 2 Axes>"
      ]
     },
     "metadata": {
      "needs_background": "light"
     },
     "output_type": "display_data"
    }
   ],
   "source": [
    "knn = KNeighborsClassifier()\n",
    "params = {'n_neighbors': [x for x in range(5, 11)], 'weights': ['uniform', 'distance'],\n",
    "          'algorithm': ['ball_tree', 'kd_tree', 'brute']}\n",
    "model(knn, X_train_resampled, y_train_resampled, X_test_full, y_test, params)"
   ]
  },
  {
   "cell_type": "markdown",
   "metadata": {},
   "source": [
    "This is the most promising model so far, it had fairly poor performance on the minority class on the train set, however it surprisingly performed really well in the test set with the model catching about 83% of the minority class while simultaneously prediction around 100% of the majority class. The model was run a few times with different splits of the train and test set splits, the results were just about the same. The MAE was 0.0239 which is the lowest that has been recorded so far."
   ]
  },
  {
   "cell_type": "markdown",
   "metadata": {},
   "source": [
    "##### c) Decision Tree with SMOTE"
   ]
  },
  {
   "cell_type": "code",
   "execution_count": 55,
   "metadata": {},
   "outputs": [
    {
     "name": "stdout",
     "output_type": "stream",
     "text": [
      "The best model is DecisionTreeClassifier(max_depth=4, max_leaf_nodes=5, min_samples_leaf=2)\n",
      "----------------------------------------------------------------------------------------------------\n",
      "Train Metrics\n",
      "Train MAE 0.3782\n",
      "----------------------------------------------------------------------------------------------------\n",
      "              precision    recall  f1-score   support\n",
      "\n",
      "           0       0.57      0.97      0.72      9989\n",
      "           1       0.90      0.27      0.42      9989\n",
      "\n",
      "    accuracy                           0.62     19978\n",
      "   macro avg       0.74      0.62      0.57     19978\n",
      "weighted avg       0.74      0.62      0.57     19978\n",
      "\n",
      "----------------------------------------------------------------------------------------------------\n",
      "Test Metrics\n",
      "Test MAE 0.1274\n",
      "              precision    recall  f1-score   support\n",
      "\n",
      "           0       0.89      0.97      0.93     10046\n",
      "           1       0.59      0.25      0.36      1616\n",
      "\n",
      "    accuracy                           0.87     11662\n",
      "   macro avg       0.74      0.61      0.64     11662\n",
      "weighted avg       0.85      0.87      0.85     11662\n",
      "\n",
      "----------------------------------------------------------------------------------------------------\n"
     ]
    },
    {
     "data": {
      "image/png": "[encoded data removed]",
      "text/plain": [
       "<Figure size 432x288 with 2 Axes>"
      ]
     },
     "metadata": {
      "needs_background": "light"
     },
     "output_type": "display_data"
    },
    {
     "data": {
      "image/png": "[encoded data removed]",
      "text/plain": [
       "<Figure size 432x288 with 2 Axes>"
      ]
     },
     "metadata": {
      "needs_background": "light"
     },
     "output_type": "display_data"
    }
   ],
   "source": [
    "dtc = DecisionTreeClassifier(criterion= 'entropy')\n",
    "params = {'criterion': ['gini', 'entropy'], 'min_samples_split': [x for x in range(2, 11)], \n",
    "          'max_depth': [x for x in range(2, 11)], 'min_samples_leaf': [x for x in range(2, 5)], \n",
    "          'max_leaf_nodes': [x for x in range(2, 11)]}\n",
    "model(dtc, X_train_resampled, y_train_resampled, X_test_full, y_test, params)"
   ]
  },
  {
   "cell_type": "markdown",
   "metadata": {},
   "source": [
    "The Decision Tree model is still underwhelming with poor performance on the test set with the model biased on the majority class. The model can only correctly predict 25% of the minority class, while it is able to predict 97% of the majority class. The test MAE is 0.1274."
   ]
  },
  {
   "cell_type": "markdown",
   "metadata": {},
   "source": [
    "##### d) Xgboost with SMOTE\n",
    "Tuning this model on the machine takes longer than anticipated, therefore default parameters will be used on the resampled train data."
   ]
  },
  {
   "cell_type": "code",
   "execution_count": 118,
   "metadata": {},
   "outputs": [
    {
     "name": "stderr",
     "output_type": "stream",
     "text": [
      "/home/abbo/anaconda3/envs/learn-env/lib/python3.8/site-packages/xgboost/data.py:173: FutureWarning: pandas.Int64Index is deprecated and will be removed from pandas in a future version. Use pandas.Index with the appropriate dtype instead.\n",
      "  from pandas import MultiIndex, Int64Index\n"
     ]
    }
   ],
   "source": [
    "# instantiate classifier\n",
    "xgb_classifier = xgb.XGBClassifier()\n",
    "# fitting\n",
    "xgb_classifier.fit(X_train_resampled, y_train_resampled)\n",
    "# predicting on train and test set\n",
    "y_train_preds = xgb_classifier.predict(X_train_resampled)\n",
    "y_test_preds = xgb_classifier.predict(X_test_full)"
   ]
  },
  {
   "cell_type": "code",
   "execution_count": 119,
   "metadata": {},
   "outputs": [
    {
     "name": "stdout",
     "output_type": "stream",
     "text": [
      "The Mean absolute error on the test set is 0.0555\n",
      "----------------------------------------------------------------------------------------------------\n",
      "The Mean absolute error on the test set is 0.1291\n"
     ]
    }
   ],
   "source": [
    "# printing accuracy scores\n",
    "print('The Mean absolute error on the test set is', round(mean_absolute_error(y_train_resampled, y_train_preds), 4))\n",
    "print('-'*100)\n",
    "print('The Mean absolute error on the test set is', round(mean_absolute_error(y_test, y_test_preds), 4))"
   ]
  },
  {
   "cell_type": "code",
   "execution_count": 122,
   "metadata": {},
   "outputs": [
    {
     "name": "stdout",
     "output_type": "stream",
     "text": [
      "Train Metrics\n",
      "              precision    recall  f1-score   support\n",
      "\n",
      "           0       0.93      0.96      0.95      9989\n",
      "           1       0.96      0.93      0.94      9989\n",
      "\n",
      "    accuracy                           0.94     19978\n",
      "   macro avg       0.95      0.94      0.94     19978\n",
      "weighted avg       0.95      0.94      0.94     19978\n",
      "\n",
      "----------------------------------------------------------------------------------------------------\n"
     ]
    },
    {
     "name": "stderr",
     "output_type": "stream",
     "text": [
      "/home/abbo/anaconda3/envs/learn-env/lib/python3.8/site-packages/xgboost/data.py:173: FutureWarning: pandas.Int64Index is deprecated and will be removed from pandas in a future version. Use pandas.Index with the appropriate dtype instead.\n",
      "  from pandas import MultiIndex, Int64Index\n"
     ]
    },
    {
     "data": {
      "image/png": "[encoded data removed]",
      "text/plain": [
       "<Figure size 432x288 with 2 Axes>"
      ]
     },
     "metadata": {
      "needs_background": "light"
     },
     "output_type": "display_data"
    }
   ],
   "source": [
    "print('Train Metrics')\n",
    "print(classification_report(y_train_resampled, y_train_preds))\n",
    "print('-'*100)\n",
    "plot_confusion_matrix(xgb_classifier, X_train_resampled, y_train_resampled, normalize= 'true');"
   ]
  },
  {
   "cell_type": "code",
   "execution_count": 124,
   "metadata": {},
   "outputs": [
    {
     "name": "stdout",
     "output_type": "stream",
     "text": [
      "Test Metrics\n",
      "              precision    recall  f1-score   support\n",
      "\n",
      "           0       0.91      0.94      0.93     10046\n",
      "           1       0.54      0.44      0.49      1616\n",
      "\n",
      "    accuracy                           0.87     11662\n",
      "   macro avg       0.73      0.69      0.71     11662\n",
      "weighted avg       0.86      0.87      0.87     11662\n",
      "\n",
      "----------------------------------------------------------------------------------------------------\n"
     ]
    },
    {
     "name": "stderr",
     "output_type": "stream",
     "text": [
      "/home/abbo/anaconda3/envs/learn-env/lib/python3.8/site-packages/xgboost/data.py:173: FutureWarning: pandas.Int64Index is deprecated and will be removed from pandas in a future version. Use pandas.Index with the appropriate dtype instead.\n",
      "  from pandas import MultiIndex, Int64Index\n"
     ]
    },
    {
     "data": {
      "image/png": "[encoded data removed]",
      "text/plain": [
       "<Figure size 432x288 with 2 Axes>"
      ]
     },
     "metadata": {
      "needs_background": "light"
     },
     "output_type": "display_data"
    }
   ],
   "source": [
    "print('Test Metrics')\n",
    "print(classification_report(y_test, y_test_preds))\n",
    "print('-'*100)\n",
    "plot_confusion_matrix(xgb_classifier, X_test_full, y_test, normalize= 'true');"
   ]
  },
  {
   "cell_type": "markdown",
   "metadata": {},
   "source": [
    "This model is so far the second best model that has been obtained. The model is able to correctly predict about 44% of the minority class, and 94% of the majority class. The MAE of the model is 0.1291."
   ]
  },
  {
   "cell_type": "markdown",
   "metadata": {},
   "source": [
    "##### e) Random Forest With SMOTE"
   ]
  },
  {
   "cell_type": "code",
   "execution_count": 86,
   "metadata": {},
   "outputs": [
    {
     "name": "stdout",
     "output_type": "stream",
     "text": [
      "The best model is RandomForestClassifier(max_depth=10, max_features='log2', min_samples_split=0.1)\n",
      "----------------------------------------------------------------------------------------------------\n",
      "Train Metrics\n",
      "Train MAE 0.4817\n",
      "----------------------------------------------------------------------------------------------------\n",
      "              precision    recall  f1-score   support\n",
      "\n",
      "           0       0.51      1.00      0.67      9989\n",
      "           1       0.98      0.04      0.07      9989\n",
      "\n",
      "    accuracy                           0.52     19978\n",
      "   macro avg       0.75      0.52      0.37     19978\n",
      "weighted avg       0.75      0.52      0.37     19978\n",
      "\n",
      "----------------------------------------------------------------------------------------------------\n",
      "Test Metrics\n",
      "Test MAE 0.1334\n",
      "              precision    recall  f1-score   support\n",
      "\n",
      "           0       0.87      1.00      0.93     10046\n",
      "           1       0.91      0.04      0.08      1616\n",
      "\n",
      "    accuracy                           0.87     11662\n",
      "   macro avg       0.89      0.52      0.50     11662\n",
      "weighted avg       0.87      0.87      0.81     11662\n",
      "\n",
      "----------------------------------------------------------------------------------------------------\n"
     ]
    },
    {
     "data": {
      "image/png": "[encoded data removed]",
      "text/plain": [
       "<Figure size 432x288 with 2 Axes>"
      ]
     },
     "metadata": {
      "needs_background": "light"
     },
     "output_type": "display_data"
    },
    {
     "data": {
      "image/png": "[encoded data removed]",
      "text/plain": [
       "<Figure size 432x288 with 2 Axes>"
      ]
     },
     "metadata": {
      "needs_background": "light"
     },
     "output_type": "display_data"
    }
   ],
   "source": [
    "rfc = RandomForestClassifier()\n",
    "params = {'criterion': ['gini', 'entropy', 'log_loss'],\n",
    "          'max_depth': [x for x in range(5, 11)],\n",
    "          'min_samples_split': list(np.linspace(.1, 1, 5)),\n",
    "          'max_features': ['sqrt', 'log2', None]}\n",
    "model(rfc, X_train_resampled, y_train_resampled, X_test_full, y_test, params)"
   ]
  },
  {
   "cell_type": "markdown",
   "metadata": {},
   "source": [
    "The model is significantly biased towards the majority class as it incorrectly identifies about 96% of the minority class."
   ]
  },
  {
   "cell_type": "markdown",
   "metadata": {},
   "source": [
    "Through Sythentic Minority Oversampling Technique (SMOTE), precision on the minority class was improved significantly in some of the models compared to previous models. However, some of the results still leave a lot to be desired. Accuracy has been impressive in all the models, given that, it is not wise to rely on it as a metric for model performance."
   ]
  },
  {
   "cell_type": "markdown",
   "metadata": {},
   "source": [
    "The best model so far has been the KNN model which was fitted on the SMOTE samples."
   ]
  },
  {
   "cell_type": "markdown",
   "metadata": {},
   "source": [
    "#### 2. Undersampling"
   ]
  },
  {
   "cell_type": "code",
   "execution_count": 56,
   "metadata": {},
   "outputs": [
    {
     "name": "stdout",
     "output_type": "stream",
     "text": [
      "Undersample X train (3346, 40)\n",
      "Undersample y train (3346,)\n"
     ]
    }
   ],
   "source": [
    "rus = RandomUnderSampler(random_state= 42, replacement= True)\n",
    "X_train_rus, y_train_rus = rus.fit_resample(X_train_full, y_train)\n",
    "print('Undersample X train', X_train_rus.shape)\n",
    "print('Undersample y train', y_train_rus.shape)"
   ]
  },
  {
   "cell_type": "markdown",
   "metadata": {},
   "source": [
    "##### a) Logistic Model With Undersampling"
   ]
  },
  {
   "cell_type": "code",
   "execution_count": 57,
   "metadata": {},
   "outputs": [
    {
     "name": "stdout",
     "output_type": "stream",
     "text": [
      "The best model is LogisticRegression(C=0.3593813663804626, fit_intercept=False, penalty='l1',\n",
      "                   solver='liblinear')\n",
      "----------------------------------------------------------------------------------------------------\n",
      "Train Metrics\n",
      "Train MAE 0.3371\n",
      "----------------------------------------------------------------------------------------------------\n",
      "              precision    recall  f1-score   support\n",
      "\n",
      "           0       0.60      0.98      0.74      1673\n",
      "           1       0.94      0.35      0.51      1673\n",
      "\n",
      "    accuracy                           0.66      3346\n",
      "   macro avg       0.77      0.66      0.63      3346\n",
      "weighted avg       0.77      0.66      0.63      3346\n",
      "\n",
      "----------------------------------------------------------------------------------------------------\n",
      "Test Metrics\n",
      "Test MAE 0.1163\n",
      "              precision    recall  f1-score   support\n",
      "\n",
      "           0       0.90      0.98      0.94     10046\n",
      "           1       0.67      0.31      0.43      1616\n",
      "\n",
      "    accuracy                           0.88     11662\n",
      "   macro avg       0.78      0.65      0.68     11662\n",
      "weighted avg       0.87      0.88      0.87     11662\n",
      "\n",
      "----------------------------------------------------------------------------------------------------\n"
     ]
    },
    {
     "data": {
      "image/png": "[encoded data removed]",
      "text/plain": [
       "<Figure size 432x288 with 2 Axes>"
      ]
     },
     "metadata": {
      "needs_background": "light"
     },
     "output_type": "display_data"
    },
    {
     "data": {
      "image/png": "[encoded data removed]",
      "text/plain": [
       "<Figure size 432x288 with 2 Axes>"
      ]
     },
     "metadata": {
      "needs_background": "light"
     },
     "output_type": "display_data"
    }
   ],
   "source": [
    "log_model = LogisticRegression(fit_intercept= False, solver= 'liblinear')\n",
    "param = {'penalty': ['l1', 'l2'], 'C': np.logspace(-4, 4, 10)}\n",
    "model(log_model, X_train_rus, y_train_rus, X_test_full, y_test, param)"
   ]
  },
  {
   "cell_type": "markdown",
   "metadata": {},
   "source": [
    "##### b) KNN With Undersampling"
   ]
  },
  {
   "cell_type": "code",
   "execution_count": 58,
   "metadata": {},
   "outputs": [
    {
     "name": "stdout",
     "output_type": "stream",
     "text": [
      "The best model is KNeighborsClassifier(algorithm='ball_tree', n_neighbors=6)\n",
      "----------------------------------------------------------------------------------------------------\n",
      "Train Metrics\n",
      "Train MAE 0.3781\n",
      "----------------------------------------------------------------------------------------------------\n",
      "              precision    recall  f1-score   support\n",
      "\n",
      "           0       0.57      0.98      0.72      1673\n",
      "           1       0.94      0.26      0.41      1673\n",
      "\n",
      "    accuracy                           0.62      3346\n",
      "   macro avg       0.76      0.62      0.56      3346\n",
      "weighted avg       0.76      0.62      0.56      3346\n",
      "\n",
      "----------------------------------------------------------------------------------------------------\n",
      "Test Metrics\n",
      "Test MAE 0.1054\n",
      "              precision    recall  f1-score   support\n",
      "\n",
      "           0       0.90      0.99      0.94     10046\n",
      "           1       0.79      0.33      0.46      1616\n",
      "\n",
      "    accuracy                           0.89     11662\n",
      "   macro avg       0.85      0.66      0.70     11662\n",
      "weighted avg       0.89      0.89      0.88     11662\n",
      "\n",
      "----------------------------------------------------------------------------------------------------\n"
     ]
    },
    {
     "data": {
      "image/png": "[encoded data removed]",
      "text/plain": [
       "<Figure size 432x288 with 2 Axes>"
      ]
     },
     "metadata": {
      "needs_background": "light"
     },
     "output_type": "display_data"
    },
    {
     "data": {
      "image/png": "[encoded data removed]",
      "text/plain": [
       "<Figure size 432x288 with 2 Axes>"
      ]
     },
     "metadata": {
      "needs_background": "light"
     },
     "output_type": "display_data"
    }
   ],
   "source": [
    "knn = KNeighborsClassifier()\n",
    "params = {'n_neighbors': [x for x in range(5, 11)], 'weights': ['uniform', 'distance'],\n",
    "          'algorithm': ['ball_tree', 'kd_tree', 'brute']}\n",
    "model(knn, X_train_rus, y_train_rus, X_test_full, y_test, params)"
   ]
  },
  {
   "cell_type": "markdown",
   "metadata": {},
   "source": [
    "##### c) Decision Tree With Undersampling"
   ]
  },
  {
   "cell_type": "code",
   "execution_count": 59,
   "metadata": {},
   "outputs": [
    {
     "name": "stdout",
     "output_type": "stream",
     "text": [
      "The best model is DecisionTreeClassifier(max_depth=4, max_leaf_nodes=5, min_samples_leaf=2)\n",
      "----------------------------------------------------------------------------------------------------\n",
      "Train Metrics\n",
      "Train MAE 0.379\n",
      "----------------------------------------------------------------------------------------------------\n",
      "              precision    recall  f1-score   support\n",
      "\n",
      "           0       0.57      0.97      0.72      1673\n",
      "           1       0.89      0.27      0.42      1673\n",
      "\n",
      "    accuracy                           0.62      3346\n",
      "   macro avg       0.73      0.62      0.57      3346\n",
      "weighted avg       0.73      0.62      0.57      3346\n",
      "\n",
      "----------------------------------------------------------------------------------------------------\n",
      "Test Metrics\n",
      "Test MAE 0.1274\n",
      "              precision    recall  f1-score   support\n",
      "\n",
      "           0       0.89      0.97      0.93     10046\n",
      "           1       0.59      0.25      0.36      1616\n",
      "\n",
      "    accuracy                           0.87     11662\n",
      "   macro avg       0.74      0.61      0.64     11662\n",
      "weighted avg       0.85      0.87      0.85     11662\n",
      "\n",
      "----------------------------------------------------------------------------------------------------\n"
     ]
    },
    {
     "data": {
      "image/png": "[encoded data removed]",
      "text/plain": [
       "<Figure size 432x288 with 2 Axes>"
      ]
     },
     "metadata": {
      "needs_background": "light"
     },
     "output_type": "display_data"
    },
    {
     "data": {
      "image/png": "[encoded data removed]",
      "text/plain": [
       "<Figure size 432x288 with 2 Axes>"
      ]
     },
     "metadata": {
      "needs_background": "light"
     },
     "output_type": "display_data"
    }
   ],
   "source": [
    "dtc = DecisionTreeClassifier(criterion= 'entropy')\n",
    "params = {'criterion': ['gini', 'entropy'], 'min_samples_split': [x for x in range(2, 11)], \n",
    "          'max_depth': [x for x in range(2, 11)], 'min_samples_leaf': [x for x in range(2, 5)], \n",
    "          'max_leaf_nodes': [x for x in range(2, 11)]}\n",
    "model(dtc, X_train_rus, y_train_rus, X_test_full, y_test, params)"
   ]
  },
  {
   "cell_type": "markdown",
   "metadata": {},
   "source": [
    "##### d) Xgboost With Undersampling"
   ]
  },
  {
   "cell_type": "code",
   "execution_count": 132,
   "metadata": {},
   "outputs": [
    {
     "name": "stderr",
     "output_type": "stream",
     "text": [
      "/home/abbo/anaconda3/envs/learn-env/lib/python3.8/site-packages/xgboost/data.py:173: FutureWarning: pandas.Int64Index is deprecated and will be removed from pandas in a future version. Use pandas.Index with the appropriate dtype instead.\n",
      "  from pandas import MultiIndex, Int64Index\n"
     ]
    }
   ],
   "source": [
    "# instantiate classifier\n",
    "xgb_classifier = xgb.XGBClassifier()\n",
    "# fitting\n",
    "xgb_classifier.fit(X_train_rus, y_train_rus)\n",
    "# predicting on train and test set\n",
    "y_train_preds = xgb_classifier.predict(X_train_rus)\n",
    "y_test_preds = xgb_classifier.predict(X_test_full)"
   ]
  },
  {
   "cell_type": "code",
   "execution_count": 135,
   "metadata": {},
   "outputs": [
    {
     "name": "stdout",
     "output_type": "stream",
     "text": [
      "The Mean absolute error on the train set is 0.0929\n",
      "----------------------------------------------------------------------------------------------------\n",
      "The Mean absolute error on the test set is 0.244\n"
     ]
    }
   ],
   "source": [
    "# printing mae scores\n",
    "print('The Mean absolute error on the train set is', round(mean_absolute_error(y_train_rus, y_train_preds), 4))\n",
    "print('-'*100)\n",
    "print('The Mean absolute error on the test set is', round(mean_absolute_error(y_test, y_test_preds), 4))"
   ]
  },
  {
   "cell_type": "code",
   "execution_count": 136,
   "metadata": {},
   "outputs": [
    {
     "name": "stdout",
     "output_type": "stream",
     "text": [
      "Train Metrics\n",
      "              precision    recall  f1-score   support\n",
      "\n",
      "           0       0.90      0.91      0.91      1673\n",
      "           1       0.91      0.90      0.91      1673\n",
      "\n",
      "    accuracy                           0.91      3346\n",
      "   macro avg       0.91      0.91      0.91      3346\n",
      "weighted avg       0.91      0.91      0.91      3346\n",
      "\n",
      "----------------------------------------------------------------------------------------------------\n"
     ]
    },
    {
     "name": "stderr",
     "output_type": "stream",
     "text": [
      "/home/abbo/anaconda3/envs/learn-env/lib/python3.8/site-packages/xgboost/data.py:173: FutureWarning: pandas.Int64Index is deprecated and will be removed from pandas in a future version. Use pandas.Index with the appropriate dtype instead.\n",
      "  from pandas import MultiIndex, Int64Index\n"
     ]
    },
    {
     "data": {
      "image/png": "[encoded data removed]",
      "text/plain": [
       "<Figure size 432x288 with 2 Axes>"
      ]
     },
     "metadata": {
      "needs_background": "light"
     },
     "output_type": "display_data"
    }
   ],
   "source": [
    "print('Train Metrics')\n",
    "print(classification_report(y_train_rus, y_train_preds))\n",
    "print('-'*100)\n",
    "plot_confusion_matrix(xgb_classifier, X_train_rus, y_train_rus, normalize= 'true');"
   ]
  },
  {
   "cell_type": "code",
   "execution_count": 138,
   "metadata": {},
   "outputs": [
    {
     "name": "stdout",
     "output_type": "stream",
     "text": [
      "Test Metrics\n",
      "              precision    recall  f1-score   support\n",
      "\n",
      "           0       0.95      0.76      0.84     10046\n",
      "           1       0.33      0.74      0.46      1616\n",
      "\n",
      "    accuracy                           0.76     11662\n",
      "   macro avg       0.64      0.75      0.65     11662\n",
      "weighted avg       0.86      0.76      0.79     11662\n",
      "\n",
      "----------------------------------------------------------------------------------------------------\n"
     ]
    },
    {
     "data": {
      "image/png": "[encoded data removed]",
      "text/plain": [
       "<Figure size 432x288 with 2 Axes>"
      ]
     },
     "metadata": {
      "needs_background": "light"
     },
     "output_type": "display_data"
    }
   ],
   "source": [
    "print('Test Metrics')\n",
    "print(classification_report(y_test, y_test_preds))\n",
    "print('-'*100)\n",
    "plot_confusion_matrix(xgb_classifier, X_test_full, y_test, normalize= 'true');"
   ]
  },
  {
   "cell_type": "markdown",
   "metadata": {},
   "source": [
    "##### e) Random Forest and Undersampling"
   ]
  },
  {
   "cell_type": "code",
   "execution_count": 87,
   "metadata": {},
   "outputs": [
    {
     "name": "stdout",
     "output_type": "stream",
     "text": [
      "The best model is RandomForestClassifier(max_depth=8, max_features=None, min_samples_split=0.1)\n",
      "----------------------------------------------------------------------------------------------------\n",
      "Train Metrics\n",
      "Train MAE 0.4026\n",
      "----------------------------------------------------------------------------------------------------\n",
      "              precision    recall  f1-score   support\n",
      "\n",
      "           0       0.55      0.99      0.71      1673\n",
      "           1       0.96      0.20      0.34      1673\n",
      "\n",
      "    accuracy                           0.60      3346\n",
      "   macro avg       0.76      0.60      0.52      3346\n",
      "weighted avg       0.76      0.60      0.52      3346\n",
      "\n",
      "----------------------------------------------------------------------------------------------------\n",
      "Test Metrics\n",
      "Test MAE 0.1209\n",
      "              precision    recall  f1-score   support\n",
      "\n",
      "           0       0.88      0.99      0.93     10046\n",
      "           1       0.77      0.18      0.30      1616\n",
      "\n",
      "    accuracy                           0.88     11662\n",
      "   macro avg       0.82      0.59      0.61     11662\n",
      "weighted avg       0.87      0.88      0.85     11662\n",
      "\n",
      "----------------------------------------------------------------------------------------------------\n"
     ]
    },
    {
     "data": {
      "image/png": "[encoded data removed]",
      "text/plain": [
       "<Figure size 432x288 with 2 Axes>"
      ]
     },
     "metadata": {
      "needs_background": "light"
     },
     "output_type": "display_data"
    },
    {
     "data": {
      "image/png": "[encoded data removed]",
      "text/plain": [
       "<Figure size 432x288 with 2 Axes>"
      ]
     },
     "metadata": {
      "needs_background": "light"
     },
     "output_type": "display_data"
    }
   ],
   "source": [
    "rfc = RandomForestClassifier()\n",
    "params = {'criterion': ['gini', 'entropy', 'log_loss'],\n",
    "          'max_depth': [x for x in range(5, 11)],\n",
    "          'min_samples_split': list(np.linspace(.1, 1, 5)),\n",
    "          'max_features': ['sqrt', 'log2', None]}\n",
    "model(rfc, X_train_rus, y_train_rus, X_test_full, y_test, params)"
   ]
  },
  {
   "cell_type": "markdown",
   "metadata": {},
   "source": [
    "##### Observations"
   ]
  },
  {
   "cell_type": "markdown",
   "metadata": {},
   "source": [
    "So far model performance in undersampling have been fairly poor. The best model was the Xgboost model(Untuned) which correctly predicted about 74% of the minority class and about the same percentage of the majority class, 76%."
   ]
  },
  {
   "cell_type": "markdown",
   "metadata": {},
   "source": [
    "### Final Model"
   ]
  },
  {
   "cell_type": "markdown",
   "metadata": {},
   "source": [
    "The best model has been the KNN model which was fitted on the SMOTE data samples. The model will be fitted on the SMOTE samples below and then used to make final predictions on the final test dataset."
   ]
  },
  {
   "cell_type": "code",
   "execution_count": 61,
   "metadata": {},
   "outputs": [
    {
     "data": {
      "text/plain": [
       "KNeighborsClassifier(algorithm='ball_tree', weights='distance')"
      ]
     },
     "execution_count": 61,
     "metadata": {},
     "output_type": "execute_result"
    }
   ],
   "source": [
    "# final model\n",
    "final_model = KNeighborsClassifier(algorithm='ball_tree', weights='distance')\n",
    "final_model.fit(X_train_resampled, y_train_resampled)"
   ]
  },
  {
   "cell_type": "code",
   "execution_count": 75,
   "metadata": {},
   "outputs": [],
   "source": [
    "# pickling the model\n",
    "# pickle.dump(final_model, open('final_model.pkl', 'wb'))\n",
    "# final_model = pickle.load(open('final_model.pkl', 'rb'))"
   ]
  },
  {
   "cell_type": "markdown",
   "metadata": {},
   "source": [
    "### Final predictions"
   ]
  },
  {
   "cell_type": "code",
   "execution_count": 62,
   "metadata": {},
   "outputs": [
    {
     "data": {
      "text/html": [
       "<div>\n",
       "<style scoped>\n",
       "    .dataframe tbody tr th:only-of-type {\n",
       "        vertical-align: middle;\n",
       "    }\n",
       "\n",
       "    .dataframe tbody tr th {\n",
       "        vertical-align: top;\n",
       "    }\n",
       "\n",
       "    .dataframe thead th {\n",
       "        text-align: right;\n",
       "    }\n",
       "</style>\n",
       "<table border=\"1\" class=\"dataframe\">\n",
       "  <thead>\n",
       "    <tr style=\"text-align: right;\">\n",
       "      <th></th>\n",
       "      <th>age_of_respondent</th>\n",
       "      <th>Kenya</th>\n",
       "      <th>Rwanda</th>\n",
       "      <th>Tanzania</th>\n",
       "      <th>Uganda</th>\n",
       "      <th>Rural</th>\n",
       "      <th>Urban</th>\n",
       "      <th>No</th>\n",
       "      <th>Yes</th>\n",
       "      <th>Female</th>\n",
       "      <th>...</th>\n",
       "      <th>Government Dependent</th>\n",
       "      <th>Informally employed</th>\n",
       "      <th>No Income</th>\n",
       "      <th>Other Income</th>\n",
       "      <th>Remittance Dependent</th>\n",
       "      <th>Self employed</th>\n",
       "      <th>size 3 or below</th>\n",
       "      <th>size above 10</th>\n",
       "      <th>size btw 4 and 6</th>\n",
       "      <th>size btw 7 and 10</th>\n",
       "    </tr>\n",
       "  </thead>\n",
       "  <tbody>\n",
       "    <tr>\n",
       "      <th>0</th>\n",
       "      <td>30</td>\n",
       "      <td>1.0</td>\n",
       "      <td>0.0</td>\n",
       "      <td>0.0</td>\n",
       "      <td>0.0</td>\n",
       "      <td>0.0</td>\n",
       "      <td>1.0</td>\n",
       "      <td>0.0</td>\n",
       "      <td>1.0</td>\n",
       "      <td>0.0</td>\n",
       "      <td>...</td>\n",
       "      <td>0.0</td>\n",
       "      <td>0.0</td>\n",
       "      <td>0.0</td>\n",
       "      <td>0.0</td>\n",
       "      <td>0.0</td>\n",
       "      <td>0.0</td>\n",
       "      <td>1.0</td>\n",
       "      <td>0.0</td>\n",
       "      <td>0.0</td>\n",
       "      <td>0.0</td>\n",
       "    </tr>\n",
       "    <tr>\n",
       "      <th>1</th>\n",
       "      <td>51</td>\n",
       "      <td>1.0</td>\n",
       "      <td>0.0</td>\n",
       "      <td>0.0</td>\n",
       "      <td>0.0</td>\n",
       "      <td>0.0</td>\n",
       "      <td>1.0</td>\n",
       "      <td>0.0</td>\n",
       "      <td>1.0</td>\n",
       "      <td>0.0</td>\n",
       "      <td>...</td>\n",
       "      <td>0.0</td>\n",
       "      <td>0.0</td>\n",
       "      <td>0.0</td>\n",
       "      <td>0.0</td>\n",
       "      <td>0.0</td>\n",
       "      <td>0.0</td>\n",
       "      <td>0.0</td>\n",
       "      <td>0.0</td>\n",
       "      <td>0.0</td>\n",
       "      <td>1.0</td>\n",
       "    </tr>\n",
       "    <tr>\n",
       "      <th>2</th>\n",
       "      <td>77</td>\n",
       "      <td>1.0</td>\n",
       "      <td>0.0</td>\n",
       "      <td>0.0</td>\n",
       "      <td>0.0</td>\n",
       "      <td>1.0</td>\n",
       "      <td>0.0</td>\n",
       "      <td>1.0</td>\n",
       "      <td>0.0</td>\n",
       "      <td>1.0</td>\n",
       "      <td>...</td>\n",
       "      <td>0.0</td>\n",
       "      <td>0.0</td>\n",
       "      <td>0.0</td>\n",
       "      <td>0.0</td>\n",
       "      <td>1.0</td>\n",
       "      <td>0.0</td>\n",
       "      <td>1.0</td>\n",
       "      <td>0.0</td>\n",
       "      <td>0.0</td>\n",
       "      <td>0.0</td>\n",
       "    </tr>\n",
       "    <tr>\n",
       "      <th>3</th>\n",
       "      <td>39</td>\n",
       "      <td>1.0</td>\n",
       "      <td>0.0</td>\n",
       "      <td>0.0</td>\n",
       "      <td>0.0</td>\n",
       "      <td>1.0</td>\n",
       "      <td>0.0</td>\n",
       "      <td>1.0</td>\n",
       "      <td>0.0</td>\n",
       "      <td>1.0</td>\n",
       "      <td>...</td>\n",
       "      <td>0.0</td>\n",
       "      <td>0.0</td>\n",
       "      <td>0.0</td>\n",
       "      <td>0.0</td>\n",
       "      <td>1.0</td>\n",
       "      <td>0.0</td>\n",
       "      <td>0.0</td>\n",
       "      <td>0.0</td>\n",
       "      <td>1.0</td>\n",
       "      <td>0.0</td>\n",
       "    </tr>\n",
       "    <tr>\n",
       "      <th>4</th>\n",
       "      <td>16</td>\n",
       "      <td>1.0</td>\n",
       "      <td>0.0</td>\n",
       "      <td>0.0</td>\n",
       "      <td>0.0</td>\n",
       "      <td>0.0</td>\n",
       "      <td>1.0</td>\n",
       "      <td>1.0</td>\n",
       "      <td>0.0</td>\n",
       "      <td>0.0</td>\n",
       "      <td>...</td>\n",
       "      <td>0.0</td>\n",
       "      <td>0.0</td>\n",
       "      <td>0.0</td>\n",
       "      <td>0.0</td>\n",
       "      <td>1.0</td>\n",
       "      <td>0.0</td>\n",
       "      <td>1.0</td>\n",
       "      <td>0.0</td>\n",
       "      <td>0.0</td>\n",
       "      <td>0.0</td>\n",
       "    </tr>\n",
       "  </tbody>\n",
       "</table>\n",
       "<p>5 rows × 40 columns</p>\n",
       "</div>"
      ],
      "text/plain": [
       "   age_of_respondent  Kenya  Rwanda  Tanzania  Uganda  Rural  Urban   No  Yes  \\\n",
       "0                 30    1.0     0.0       0.0     0.0    0.0    1.0  0.0  1.0   \n",
       "1                 51    1.0     0.0       0.0     0.0    0.0    1.0  0.0  1.0   \n",
       "2                 77    1.0     0.0       0.0     0.0    1.0    0.0  1.0  0.0   \n",
       "3                 39    1.0     0.0       0.0     0.0    1.0    0.0  1.0  0.0   \n",
       "4                 16    1.0     0.0       0.0     0.0    0.0    1.0  1.0  0.0   \n",
       "\n",
       "   Female  ...  Government Dependent  Informally employed  No Income  \\\n",
       "0     0.0  ...                   0.0                  0.0        0.0   \n",
       "1     0.0  ...                   0.0                  0.0        0.0   \n",
       "2     1.0  ...                   0.0                  0.0        0.0   \n",
       "3     1.0  ...                   0.0                  0.0        0.0   \n",
       "4     0.0  ...                   0.0                  0.0        0.0   \n",
       "\n",
       "   Other Income  Remittance Dependent  Self employed  size 3 or below  \\\n",
       "0           0.0                   0.0            0.0              1.0   \n",
       "1           0.0                   0.0            0.0              0.0   \n",
       "2           0.0                   1.0            0.0              1.0   \n",
       "3           0.0                   1.0            0.0              0.0   \n",
       "4           0.0                   1.0            0.0              1.0   \n",
       "\n",
       "   size above 10  size btw 4 and 6  size btw 7 and 10  \n",
       "0            0.0               0.0                0.0  \n",
       "1            0.0               0.0                1.0  \n",
       "2            0.0               0.0                0.0  \n",
       "3            0.0               1.0                0.0  \n",
       "4            0.0               0.0                0.0  \n",
       "\n",
       "[5 rows x 40 columns]"
      ]
     },
     "execution_count": 62,
     "metadata": {},
     "output_type": "execute_result"
    }
   ],
   "source": [
    "# preprocessing final test set\n",
    "test_ohe = cat_list(test_copy, categorical)\n",
    "test_ohe.head()"
   ]
  },
  {
   "cell_type": "code",
   "execution_count": 63,
   "metadata": {},
   "outputs": [],
   "source": [
    "# scaling the age_of_respondent column on test set\n",
    "test_numeric = test_copy[['age_of_respondent']].copy()\n",
    "# fitting and transforming\n",
    "test_num_scaled = scaler.transform(test_numeric)\n",
    "#changing to dataframe\n",
    "test_num_scaled = pd.DataFrame(test_num_scaled,\n",
    "                                  index= test_numeric.index,\n",
    "                                  columns= test_numeric.columns)\n",
    "test_final = pd.concat([test_ohe.drop('age_of_respondent', axis= 1), test_num_scaled], axis= 1)"
   ]
  },
  {
   "cell_type": "code",
   "execution_count": 64,
   "metadata": {},
   "outputs": [
    {
     "data": {
      "text/html": [
       "<div>\n",
       "<style scoped>\n",
       "    .dataframe tbody tr th:only-of-type {\n",
       "        vertical-align: middle;\n",
       "    }\n",
       "\n",
       "    .dataframe tbody tr th {\n",
       "        vertical-align: top;\n",
       "    }\n",
       "\n",
       "    .dataframe thead th {\n",
       "        text-align: right;\n",
       "    }\n",
       "</style>\n",
       "<table border=\"1\" class=\"dataframe\">\n",
       "  <thead>\n",
       "    <tr style=\"text-align: right;\">\n",
       "      <th></th>\n",
       "      <th>Kenya</th>\n",
       "      <th>Rwanda</th>\n",
       "      <th>Tanzania</th>\n",
       "      <th>Uganda</th>\n",
       "      <th>Rural</th>\n",
       "      <th>Urban</th>\n",
       "      <th>No</th>\n",
       "      <th>Yes</th>\n",
       "      <th>Female</th>\n",
       "      <th>Male</th>\n",
       "      <th>...</th>\n",
       "      <th>Informally employed</th>\n",
       "      <th>No Income</th>\n",
       "      <th>Other Income</th>\n",
       "      <th>Remittance Dependent</th>\n",
       "      <th>Self employed</th>\n",
       "      <th>size 3 or below</th>\n",
       "      <th>size above 10</th>\n",
       "      <th>size btw 4 and 6</th>\n",
       "      <th>size btw 7 and 10</th>\n",
       "      <th>age_of_respondent</th>\n",
       "    </tr>\n",
       "  </thead>\n",
       "  <tbody>\n",
       "    <tr>\n",
       "      <th>0</th>\n",
       "      <td>1.0</td>\n",
       "      <td>0.0</td>\n",
       "      <td>0.0</td>\n",
       "      <td>0.0</td>\n",
       "      <td>0.0</td>\n",
       "      <td>1.0</td>\n",
       "      <td>0.0</td>\n",
       "      <td>1.0</td>\n",
       "      <td>0.0</td>\n",
       "      <td>1.0</td>\n",
       "      <td>...</td>\n",
       "      <td>0.0</td>\n",
       "      <td>0.0</td>\n",
       "      <td>0.0</td>\n",
       "      <td>0.0</td>\n",
       "      <td>0.0</td>\n",
       "      <td>1.0</td>\n",
       "      <td>0.0</td>\n",
       "      <td>0.0</td>\n",
       "      <td>0.0</td>\n",
       "      <td>0.202899</td>\n",
       "    </tr>\n",
       "    <tr>\n",
       "      <th>1</th>\n",
       "      <td>1.0</td>\n",
       "      <td>0.0</td>\n",
       "      <td>0.0</td>\n",
       "      <td>0.0</td>\n",
       "      <td>0.0</td>\n",
       "      <td>1.0</td>\n",
       "      <td>0.0</td>\n",
       "      <td>1.0</td>\n",
       "      <td>0.0</td>\n",
       "      <td>1.0</td>\n",
       "      <td>...</td>\n",
       "      <td>0.0</td>\n",
       "      <td>0.0</td>\n",
       "      <td>0.0</td>\n",
       "      <td>0.0</td>\n",
       "      <td>0.0</td>\n",
       "      <td>0.0</td>\n",
       "      <td>0.0</td>\n",
       "      <td>0.0</td>\n",
       "      <td>1.0</td>\n",
       "      <td>0.507246</td>\n",
       "    </tr>\n",
       "    <tr>\n",
       "      <th>2</th>\n",
       "      <td>1.0</td>\n",
       "      <td>0.0</td>\n",
       "      <td>0.0</td>\n",
       "      <td>0.0</td>\n",
       "      <td>1.0</td>\n",
       "      <td>0.0</td>\n",
       "      <td>1.0</td>\n",
       "      <td>0.0</td>\n",
       "      <td>1.0</td>\n",
       "      <td>0.0</td>\n",
       "      <td>...</td>\n",
       "      <td>0.0</td>\n",
       "      <td>0.0</td>\n",
       "      <td>0.0</td>\n",
       "      <td>1.0</td>\n",
       "      <td>0.0</td>\n",
       "      <td>1.0</td>\n",
       "      <td>0.0</td>\n",
       "      <td>0.0</td>\n",
       "      <td>0.0</td>\n",
       "      <td>0.884058</td>\n",
       "    </tr>\n",
       "    <tr>\n",
       "      <th>3</th>\n",
       "      <td>1.0</td>\n",
       "      <td>0.0</td>\n",
       "      <td>0.0</td>\n",
       "      <td>0.0</td>\n",
       "      <td>1.0</td>\n",
       "      <td>0.0</td>\n",
       "      <td>1.0</td>\n",
       "      <td>0.0</td>\n",
       "      <td>1.0</td>\n",
       "      <td>0.0</td>\n",
       "      <td>...</td>\n",
       "      <td>0.0</td>\n",
       "      <td>0.0</td>\n",
       "      <td>0.0</td>\n",
       "      <td>1.0</td>\n",
       "      <td>0.0</td>\n",
       "      <td>0.0</td>\n",
       "      <td>0.0</td>\n",
       "      <td>1.0</td>\n",
       "      <td>0.0</td>\n",
       "      <td>0.333333</td>\n",
       "    </tr>\n",
       "    <tr>\n",
       "      <th>4</th>\n",
       "      <td>1.0</td>\n",
       "      <td>0.0</td>\n",
       "      <td>0.0</td>\n",
       "      <td>0.0</td>\n",
       "      <td>0.0</td>\n",
       "      <td>1.0</td>\n",
       "      <td>1.0</td>\n",
       "      <td>0.0</td>\n",
       "      <td>0.0</td>\n",
       "      <td>1.0</td>\n",
       "      <td>...</td>\n",
       "      <td>0.0</td>\n",
       "      <td>0.0</td>\n",
       "      <td>0.0</td>\n",
       "      <td>1.0</td>\n",
       "      <td>0.0</td>\n",
       "      <td>1.0</td>\n",
       "      <td>0.0</td>\n",
       "      <td>0.0</td>\n",
       "      <td>0.0</td>\n",
       "      <td>0.000000</td>\n",
       "    </tr>\n",
       "  </tbody>\n",
       "</table>\n",
       "<p>5 rows × 40 columns</p>\n",
       "</div>"
      ],
      "text/plain": [
       "   Kenya  Rwanda  Tanzania  Uganda  Rural  Urban   No  Yes  Female  Male  ...  \\\n",
       "0    1.0     0.0       0.0     0.0    0.0    1.0  0.0  1.0     0.0   1.0  ...   \n",
       "1    1.0     0.0       0.0     0.0    0.0    1.0  0.0  1.0     0.0   1.0  ...   \n",
       "2    1.0     0.0       0.0     0.0    1.0    0.0  1.0  0.0     1.0   0.0  ...   \n",
       "3    1.0     0.0       0.0     0.0    1.0    0.0  1.0  0.0     1.0   0.0  ...   \n",
       "4    1.0     0.0       0.0     0.0    0.0    1.0  1.0  0.0     0.0   1.0  ...   \n",
       "\n",
       "   Informally employed  No Income  Other Income  Remittance Dependent  \\\n",
       "0                  0.0        0.0           0.0                   0.0   \n",
       "1                  0.0        0.0           0.0                   0.0   \n",
       "2                  0.0        0.0           0.0                   1.0   \n",
       "3                  0.0        0.0           0.0                   1.0   \n",
       "4                  0.0        0.0           0.0                   1.0   \n",
       "\n",
       "   Self employed  size 3 or below  size above 10  size btw 4 and 6  \\\n",
       "0            0.0              1.0            0.0               0.0   \n",
       "1            0.0              0.0            0.0               0.0   \n",
       "2            0.0              1.0            0.0               0.0   \n",
       "3            0.0              0.0            0.0               1.0   \n",
       "4            0.0              1.0            0.0               0.0   \n",
       "\n",
       "   size btw 7 and 10  age_of_respondent  \n",
       "0                0.0           0.202899  \n",
       "1                1.0           0.507246  \n",
       "2                0.0           0.884058  \n",
       "3                0.0           0.333333  \n",
       "4                0.0           0.000000  \n",
       "\n",
       "[5 rows x 40 columns]"
      ]
     },
     "execution_count": 64,
     "metadata": {},
     "output_type": "execute_result"
    }
   ],
   "source": [
    "test_final.head()"
   ]
  },
  {
   "cell_type": "code",
   "execution_count": 65,
   "metadata": {},
   "outputs": [],
   "source": [
    "# making final predictions\n",
    "test_preds = final_model.predict(test_final)"
   ]
  },
  {
   "cell_type": "code",
   "execution_count": 66,
   "metadata": {},
   "outputs": [
    {
     "data": {
      "text/plain": [
       "array([1, 1, 0, ..., 1, 0, 1])"
      ]
     },
     "execution_count": 66,
     "metadata": {},
     "output_type": "execute_result"
    }
   ],
   "source": [
    "test_preds"
   ]
  },
  {
   "cell_type": "code",
   "execution_count": 69,
   "metadata": {},
   "outputs": [
    {
     "data": {
      "text/html": [
       "<div>\n",
       "<style scoped>\n",
       "    .dataframe tbody tr th:only-of-type {\n",
       "        vertical-align: middle;\n",
       "    }\n",
       "\n",
       "    .dataframe tbody tr th {\n",
       "        vertical-align: top;\n",
       "    }\n",
       "\n",
       "    .dataframe thead th {\n",
       "        text-align: right;\n",
       "    }\n",
       "</style>\n",
       "<table border=\"1\" class=\"dataframe\">\n",
       "  <thead>\n",
       "    <tr style=\"text-align: right;\">\n",
       "      <th></th>\n",
       "      <th>country</th>\n",
       "      <th>year</th>\n",
       "      <th>uniqueid</th>\n",
       "      <th>location_type</th>\n",
       "      <th>cellphone_access</th>\n",
       "      <th>household_size</th>\n",
       "      <th>age_of_respondent</th>\n",
       "      <th>gender_of_respondent</th>\n",
       "      <th>relationship_with_head</th>\n",
       "      <th>marital_status</th>\n",
       "      <th>education_level</th>\n",
       "      <th>job_type</th>\n",
       "    </tr>\n",
       "  </thead>\n",
       "  <tbody>\n",
       "    <tr>\n",
       "      <th>0</th>\n",
       "      <td>Kenya</td>\n",
       "      <td>2018</td>\n",
       "      <td>uniqueid_6056</td>\n",
       "      <td>Urban</td>\n",
       "      <td>Yes</td>\n",
       "      <td>3</td>\n",
       "      <td>30</td>\n",
       "      <td>Male</td>\n",
       "      <td>Head of Household</td>\n",
       "      <td>Married/Living together</td>\n",
       "      <td>Secondary education</td>\n",
       "      <td>Formally employed Government</td>\n",
       "    </tr>\n",
       "    <tr>\n",
       "      <th>1</th>\n",
       "      <td>Kenya</td>\n",
       "      <td>2018</td>\n",
       "      <td>uniqueid_6060</td>\n",
       "      <td>Urban</td>\n",
       "      <td>Yes</td>\n",
       "      <td>7</td>\n",
       "      <td>51</td>\n",
       "      <td>Male</td>\n",
       "      <td>Head of Household</td>\n",
       "      <td>Married/Living together</td>\n",
       "      <td>Vocational/Specialised training</td>\n",
       "      <td>Formally employed Private</td>\n",
       "    </tr>\n",
       "    <tr>\n",
       "      <th>2</th>\n",
       "      <td>Kenya</td>\n",
       "      <td>2018</td>\n",
       "      <td>uniqueid_6065</td>\n",
       "      <td>Rural</td>\n",
       "      <td>No</td>\n",
       "      <td>3</td>\n",
       "      <td>77</td>\n",
       "      <td>Female</td>\n",
       "      <td>Parent</td>\n",
       "      <td>Married/Living together</td>\n",
       "      <td>No formal education</td>\n",
       "      <td>Remittance Dependent</td>\n",
       "    </tr>\n",
       "    <tr>\n",
       "      <th>3</th>\n",
       "      <td>Kenya</td>\n",
       "      <td>2018</td>\n",
       "      <td>uniqueid_6072</td>\n",
       "      <td>Rural</td>\n",
       "      <td>No</td>\n",
       "      <td>6</td>\n",
       "      <td>39</td>\n",
       "      <td>Female</td>\n",
       "      <td>Head of Household</td>\n",
       "      <td>Married/Living together</td>\n",
       "      <td>Primary education</td>\n",
       "      <td>Remittance Dependent</td>\n",
       "    </tr>\n",
       "    <tr>\n",
       "      <th>4</th>\n",
       "      <td>Kenya</td>\n",
       "      <td>2018</td>\n",
       "      <td>uniqueid_6073</td>\n",
       "      <td>Urban</td>\n",
       "      <td>No</td>\n",
       "      <td>3</td>\n",
       "      <td>16</td>\n",
       "      <td>Male</td>\n",
       "      <td>Child</td>\n",
       "      <td>Single/Never Married</td>\n",
       "      <td>Secondary education</td>\n",
       "      <td>Remittance Dependent</td>\n",
       "    </tr>\n",
       "  </tbody>\n",
       "</table>\n",
       "</div>"
      ],
      "text/plain": [
       "  country  year       uniqueid location_type cellphone_access  household_size  \\\n",
       "0   Kenya  2018  uniqueid_6056         Urban              Yes               3   \n",
       "1   Kenya  2018  uniqueid_6060         Urban              Yes               7   \n",
       "2   Kenya  2018  uniqueid_6065         Rural               No               3   \n",
       "3   Kenya  2018  uniqueid_6072         Rural               No               6   \n",
       "4   Kenya  2018  uniqueid_6073         Urban               No               3   \n",
       "\n",
       "   age_of_respondent gender_of_respondent relationship_with_head  \\\n",
       "0                 30                 Male      Head of Household   \n",
       "1                 51                 Male      Head of Household   \n",
       "2                 77               Female                 Parent   \n",
       "3                 39               Female      Head of Household   \n",
       "4                 16                 Male                  Child   \n",
       "\n",
       "            marital_status                  education_level  \\\n",
       "0  Married/Living together              Secondary education   \n",
       "1  Married/Living together  Vocational/Specialised training   \n",
       "2  Married/Living together              No formal education   \n",
       "3  Married/Living together                Primary education   \n",
       "4     Single/Never Married              Secondary education   \n",
       "\n",
       "                       job_type  \n",
       "0  Formally employed Government  \n",
       "1     Formally employed Private  \n",
       "2          Remittance Dependent  \n",
       "3          Remittance Dependent  \n",
       "4          Remittance Dependent  "
      ]
     },
     "execution_count": 69,
     "metadata": {},
     "output_type": "execute_result"
    }
   ],
   "source": [
    "test.head()"
   ]
  },
  {
   "cell_type": "code",
   "execution_count": 76,
   "metadata": {},
   "outputs": [],
   "source": [
    "# test['bank_account'] = list(test_preds)\n",
    "# test['unique_id'] = test['uniqueid'].str.cat(test['country'], sep= ' x ')\n",
    "# submission_file = test[['unique_id', 'bank_account']].copy()\n",
    "submission_file.to_csv('data/submission_file.csv', index= False)"
   ]
  },
  {
   "cell_type": "markdown",
   "metadata": {},
   "source": [
    "## Conclusions"
   ]
  },
  {
   "cell_type": "markdown",
   "metadata": {},
   "source": [
    "The best model so far is the Xgboost classifier. Overall there is lack of access to bank accounts among the population in the region. There maybe multiple factors to these eg.\n",
    "1. Lack of trust on banking institutions.\n",
    "2. Emergence of mobile banking across the region.\n",
    "3. Lack of education to the population about banking institutions.\n",
    "\n",
    "Further investment in these department will go along way in trying to enable the population invest in more"
   ]
  },
  {
   "cell_type": "markdown",
   "metadata": {},
   "source": [
    "## Recommendations"
   ]
  },
  {
   "cell_type": "markdown",
   "metadata": {},
   "source": [
    "These are the recommendations from this analysis:\n",
    "1. Increase microfinance initiatives to boost knowledge of financial institutions.\n",
    "2. Active Campaigns should be carried out to target people in informal employment to increase their access to bank accounts.\n",
    "3. Further research should be carried out to find out why most household heads have no access to bank accounts."
   ]
  },
  {
   "cell_type": "code",
   "execution_count": null,
   "metadata": {},
   "outputs": [],
   "source": []
  }
 ],
 "metadata": {
  "kernelspec": {
   "display_name": "Python (learn-env)",
   "language": "python",
   "name": "learn-env"
  },
  "language_info": {
   "codemirror_mode": {
    "name": "ipython",
    "version": 3
   },
   "file_extension": ".py",
   "mimetype": "text/x-python",
   "name": "python",
   "nbconvert_exporter": "python",
   "pygments_lexer": "ipython3",
   "version": "3.8.5"
  }
 },
 "nbformat": 4,
 "nbformat_minor": 4
}
